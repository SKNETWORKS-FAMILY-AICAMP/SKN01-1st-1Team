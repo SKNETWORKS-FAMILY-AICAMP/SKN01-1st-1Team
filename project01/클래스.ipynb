{
 "cells": [
  {
   "cell_type": "markdown",
   "metadata": {},
   "source": [
    "# 파이썬의 클래스 구조"
   ]
  },
  {
   "cell_type": "code",
   "execution_count": null,
   "metadata": {},
   "outputs": [],
   "source": [
    "클래스\n",
    "객체지향 프로그래밍\n",
    "객체\n",
    "인스턴스\n"
   ]
  },
  {
   "cell_type": "code",
   "execution_count": 6,
   "metadata": {},
   "outputs": [
    {
     "name": "stdout",
     "output_type": "stream",
     "text": [
      "파랑\n",
      "제네시스이(가) 전진합니다.\n",
      "static method\n"
     ]
    }
   ],
   "source": [
    "class Car:\n",
    "    # 값 = 필드 = 속성\n",
    "    # 기능 = 메소드 = function\n",
    "    color = \"검정\" # 클래스 변수 (!= 인스턴스 변수)\n",
    "    model = \"벤츠\" # 클래스 변수\n",
    "    \n",
    "    # class 내부에서 괄호 () 넣는데에는 무조건 self 키워드 넣기\n",
    "    \n",
    "    # 생성자 : 인스턴스화 시키면 무조건 있어야하는 기본 기능들 넣기\n",
    "    def __init__(self, model, color):\n",
    "        self.model = model # self : 구체화된 인스턴스 자기자신을 지칭한다!\n",
    "        self.color = color # self.변수 = 인스턴스 변수 (=멤버 변수)\n",
    "    \n",
    "    \n",
    "    # 기능\n",
    "    def forward(self): # class method의 기본 args에는 self들어감 (인스턴스 때문)\n",
    "        # 클래스를 통해서 구체화된 객체를 인스턴스라 한다. (객체 != 인스턴스)\n",
    "        # self = 구체화된 인스턴스 : 자기자신을 가리킨다 (C에서는 this의 의미)\n",
    "        print(f\"{self.model}이(가) 전진합니다.\")\n",
    "    def backward(self):\n",
    "        pass\n",
    "    \n",
    "    # 스태틱 메소드 : 인스턴스화 하지 않고도 쓸 수 있다. >> 외부에서도 접근 가능 >> private, public 느낌?\n",
    "    # Car.스태틱메소드명() 의 방식으로 호출 = 일반 함수와 같음 = 유틸리티성 메소드\n",
    "    # 선언은 staticmethod 데코레이터를 선언해주면 아래의 함수는 스태틱메소드가 됨\n",
    "    @staticmethod\n",
    "    def static():\n",
    "        print(\"static method\")\n",
    "\n",
    "# 클래스는 다른데다 정의하고 실행은 main.py에서 실행할 것이므로 실제로 구현할 때는 메인함수 여부 하기\n",
    "if __name__ == \"__main__\":\n",
    "\n",
    "    # 클래스를 쓰려면 인스턴스화를 해야 쓸 수 있다.\n",
    "    car01 = Car(\"제네시스\",\"파랑\")\n",
    "    car02 = Car(\"람보르기니\",\"노랑\")\n",
    "\n",
    "    # 이제 클래스의 값과 기능 사용 가능\n",
    "    print(car01.color)\n",
    "    car01.forward()\n",
    "\n",
    "    # 스태틱메소드 불러오기\n",
    "    Car.static()"
   ]
  },
  {
   "cell_type": "markdown",
   "metadata": {},
   "source": [
    "## class 키워드를 사용한 클래스 정의"
   ]
  },
  {
   "cell_type": "code",
   "execution_count": 7,
   "metadata": {},
   "outputs": [],
   "source": [
    "class Page:  # 클래스 정의\n",
    "    def __init__(self, num, content):\n",
    "        self.num = num  # ページ番号\n",
    "        self.content = content  # 페이지 내용\n",
    "    def output(self):\n",
    "        return f'{self.content}'"
   ]
  },
  {
   "cell_type": "code",
   "execution_count": 9,
   "metadata": {},
   "outputs": [
    {
     "data": {
      "text/plain": [
       "__main__.Page"
      ]
     },
     "execution_count": 9,
     "metadata": {},
     "output_type": "execute_result"
    }
   ],
   "source": [
    "Page  # 클래스 객체 Page가 정의됨"
   ]
  },
  {
   "cell_type": "markdown",
   "metadata": {},
   "source": [
    "## 인스턴스 만들기"
   ]
  },
  {
   "cell_type": "code",
   "execution_count": 10,
   "metadata": {},
   "outputs": [],
   "source": [
    "# 인스턴스화\n",
    "title_page = Page(0, 'Python Practice Book')"
   ]
  },
  {
   "cell_type": "code",
   "execution_count": 11,
   "metadata": {},
   "outputs": [
    {
     "data": {
      "text/plain": [
       "__main__.Page"
      ]
     },
     "execution_count": 11,
     "metadata": {},
     "output_type": "execute_result"
    }
   ],
   "source": [
    "type(title_page)  # 인스턴스의 클래스를 확인함"
   ]
  },
  {
   "cell_type": "code",
   "execution_count": 12,
   "metadata": {},
   "outputs": [
    {
     "data": {
      "text/plain": [
       "True"
      ]
     },
     "execution_count": 12,
     "metadata": {},
     "output_type": "execute_result"
    }
   ],
   "source": [
    "# Page 클래스의 인스턴스인지 확인함\n",
    "isinstance(title_page, Page)"
   ]
  },
  {
   "cell_type": "code",
   "execution_count": 13,
   "metadata": {},
   "outputs": [
    {
     "data": {
      "text/plain": [
       "['__class__',\n",
       " '__delattr__',\n",
       " '__dict__',\n",
       " '__dir__',\n",
       " '__doc__',\n",
       " '__eq__',\n",
       " '__format__',\n",
       " '__ge__',\n",
       " '__getattribute__',\n",
       " '__gt__',\n",
       " '__hash__',\n",
       " '__init__',\n",
       " '__init_subclass__',\n",
       " '__le__',\n",
       " '__lt__',\n",
       " '__module__',\n",
       " '__ne__',\n",
       " '__new__',\n",
       " '__reduce__',\n",
       " '__reduce_ex__',\n",
       " '__repr__',\n",
       " '__setattr__',\n",
       " '__sizeof__',\n",
       " '__str__',\n",
       " '__subclasshook__',\n",
       " '__weakref__',\n",
       " 'content',\n",
       " 'num',\n",
       " 'output']"
      ]
     },
     "execution_count": 13,
     "metadata": {},
     "output_type": "execute_result"
    }
   ],
   "source": [
    "# 인스턴스가 가진 속성을 확인함\n",
    "dir(title_page)"
   ]
  },
  {
   "cell_type": "markdown",
   "metadata": {},
   "source": [
    "# 인스턴스 ── 클래스를 기반으로 만들어진 객체"
   ]
  },
  {
   "cell_type": "markdown",
   "metadata": {},
   "source": [
    "## 인스턴스 메서드 ── 인스턴스에 묶인 메서드"
   ]
  },
  {
   "cell_type": "code",
   "execution_count": 7,
   "metadata": {},
   "outputs": [
    {
     "data": {
      "text/plain": [
       "'Python Practice Book'"
      ]
     },
     "execution_count": 7,
     "metadata": {},
     "output_type": "execute_result"
    }
   ],
   "source": [
    "title_page.output()  # 인스턴스 메서드 호출"
   ]
  },
  {
   "cell_type": "markdown",
   "metadata": {},
   "source": [
    "#### 메서드 객채와 함수 객체"
   ]
  },
  {
   "cell_type": "code",
   "execution_count": 15,
   "metadata": {},
   "outputs": [],
   "source": [
    "class Klass:\n",
    "    def some_method(self):  # 인스턴스 메서드 정의\n",
    "        print('method')"
   ]
  },
  {
   "cell_type": "code",
   "execution_count": 16,
   "metadata": {},
   "outputs": [],
   "source": [
    "def some_function(self):  # 같은 인수의 함수 정의\n",
    "    print('function')"
   ]
  },
  {
   "cell_type": "code",
   "execution_count": 17,
   "metadata": {},
   "outputs": [
    {
     "data": {
      "text/plain": [
       "function"
      ]
     },
     "execution_count": 17,
     "metadata": {},
     "output_type": "execute_result"
    }
   ],
   "source": [
    "# 함수는 function 클래스의 인스턴스임\n",
    "type(some_function)"
   ]
  },
  {
   "cell_type": "code",
   "execution_count": 20,
   "metadata": {},
   "outputs": [
    {
     "data": {
      "text/plain": [
       "method"
      ]
     },
     "execution_count": 20,
     "metadata": {},
     "output_type": "execute_result"
    }
   ],
   "source": [
    "# 스태틱 메서드도 function 클래스의 인스턴스\n",
    "type(Klass.some_method)\n",
    "\n",
    "# 인스턴스 메서드는 method 클래스의 인스턴스\n",
    "kls = Klass()\n",
    "type(kls.some_method)"
   ]
  },
  {
   "cell_type": "code",
   "execution_count": 21,
   "metadata": {},
   "outputs": [],
   "source": [
    "# 클래스 객체의 속성에 함수를 추가\n",
    "Klass.some_function = some_function"
   ]
  },
  {
   "cell_type": "code",
   "execution_count": 22,
   "metadata": {},
   "outputs": [
    {
     "name": "stdout",
     "output_type": "stream",
     "text": [
      "function\n"
     ]
    }
   ],
   "source": [
    "# 새로 추가된 함수를 인스턴스 메서드로 실행\n",
    "kls.some_function()"
   ]
  },
  {
   "cell_type": "markdown",
   "metadata": {},
   "source": [
    "## 인스턴스 변수 ── 인스턴스가 저장하는 변수 (self)"
   ]
  },
  {
   "cell_type": "code",
   "execution_count": 23,
   "metadata": {},
   "outputs": [
    {
     "data": {
      "text/plain": [
       "0"
      ]
     },
     "execution_count": 23,
     "metadata": {},
     "output_type": "execute_result"
    }
   ],
   "source": [
    "# 이렇게 바깥에서 값 못바꾸게 하려면 ? >> 접근 제한자 : 직접적으로 값을 변경못하게\n",
    "# 메소드를 통해서 변경할 수 있게 set() -> get()\n",
    "# 접근제한자\n",
    "# protected : \n",
    "# public : 접근제한 x\n",
    "# private : 외부접근 x\n",
    "# default : \n",
    "\n",
    "# 기본적으론 변수 변경이 가능\n",
    "# 변수 앞에 _을 두어 변경하지 말라고만 의사전달 (값을 변경할순 있음)\n",
    "\n",
    "title_page.section = 0\n",
    "title_page.section"
   ]
  },
  {
   "cell_type": "code",
   "execution_count": 16,
   "metadata": {
    "tags": [
     "raises-exception"
    ]
   },
   "outputs": [
    {
     "ename": "AttributeError",
     "evalue": "'Page' object has no attribute 'section'",
     "output_type": "error",
     "traceback": [
      "\u001b[0;31m---------------------------------------------------------------------------\u001b[0m",
      "\u001b[0;31mAttributeError\u001b[0m                            Traceback (most recent call last)",
      "\u001b[0;32m<ipython-input-16-622c9b4a10cc>\u001b[0m in \u001b[0;36m<module>\u001b[0;34m\u001b[0m\n\u001b[1;32m      1\u001b[0m \u001b[0mfirst_page\u001b[0m \u001b[0;34m=\u001b[0m \u001b[0mPage\u001b[0m\u001b[0;34m(\u001b[0m\u001b[0;36m1\u001b[0m\u001b[0;34m,\u001b[0m \u001b[0;34m'first page'\u001b[0m\u001b[0;34m)\u001b[0m\u001b[0;34m\u001b[0m\u001b[0;34m\u001b[0m\u001b[0m\n\u001b[0;32m----> 2\u001b[0;31m \u001b[0mfirst_page\u001b[0m\u001b[0;34m.\u001b[0m\u001b[0msection\u001b[0m\u001b[0;34m\u001b[0m\u001b[0;34m\u001b[0m\u001b[0m\n\u001b[0m",
      "\u001b[0;31mAttributeError\u001b[0m: 'Page' object has no attribute 'section'"
     ]
    }
   ],
   "source": [
    "first_page = Page(1, 'first page')\n",
    "first_page.section # first_page와 title_page는 서로 다른 인스턴스이므로 first_page엔 당연히 section이란 변수가 없다."
   ]
  },
  {
   "cell_type": "markdown",
   "metadata": {},
   "source": [
    "## 인스턴스 초기화"
   ]
  },
  {
   "cell_type": "markdown",
   "metadata": {},
   "source": [
    "### \\_\\_init\\_\\_() ── 인스턴스 초기화를 수행하는 특수 메서드"
   ]
  },
  {
   "cell_type": "code",
   "execution_count": 24,
   "metadata": {},
   "outputs": [],
   "source": [
    "# 클래스 정의 \n",
    "class Page:\n",
    "    # 넣어줄거 없으면 None이란 type을 넣음 >> 인스턴스 선언할때 2개의 args만 줘도 됨 (num, content)\n",
    "    def __init__(self, num, content, section=None):\n",
    "        self.num = num\n",
    "        self.content = content\n",
    "        self.section = section\n",
    "    def output(self):\n",
    "        return f'{self.content}'"
   ]
  },
  {
   "cell_type": "markdown",
   "metadata": {},
   "source": [
    "### 인수를 전달해 인스턴스화 하기"
   ]
  },
  {
   "cell_type": "code",
   "execution_count": 25,
   "metadata": {},
   "outputs": [],
   "source": [
    "# 인스턴스 작성\n",
    "title_page = Page(0, 'Python Practice Book')"
   ]
  },
  {
   "cell_type": "code",
   "execution_count": 26,
   "metadata": {},
   "outputs": [],
   "source": [
    "title_page.section  # title_page 인스턴스 선언할때, section은 안 넣었으므로 section은 None"
   ]
  },
  {
   "cell_type": "code",
   "execution_count": 27,
   "metadata": {},
   "outputs": [
    {
     "data": {
      "text/plain": [
       "'Python Practice Book'"
      ]
     },
     "execution_count": 27,
     "metadata": {},
     "output_type": "execute_result"
    }
   ],
   "source": [
    "title_page.output()"
   ]
  },
  {
   "cell_type": "code",
   "execution_count": 28,
   "metadata": {},
   "outputs": [],
   "source": [
    "# section을 지정해 다른 인스턴스를 작성\n",
    "first_page = Page(1, 'first page', 1)"
   ]
  },
  {
   "cell_type": "code",
   "execution_count": 29,
   "metadata": {},
   "outputs": [
    {
     "data": {
      "text/plain": [
       "1"
      ]
     },
     "execution_count": 29,
     "metadata": {},
     "output_type": "execute_result"
    }
   ],
   "source": [
    "first_page.section  # section이 지정되어 있음"
   ]
  },
  {
   "cell_type": "code",
   "execution_count": 30,
   "metadata": {},
   "outputs": [
    {
     "data": {
      "text/plain": [
       "'first page'"
      ]
     },
     "execution_count": 30,
     "metadata": {},
     "output_type": "execute_result"
    }
   ],
   "source": [
    "first_page.output()"
   ]
  },
  {
   "cell_type": "markdown",
   "metadata": {},
   "source": [
    "### \\_\\_init\\_\\_()과 \\_\\_new\\_\\_()의 차이 ── 이니셜라이저와 컨스트럭터"
   ]
  },
  {
   "cell_type": "code",
   "execution_count": 31,
   "metadata": {},
   "outputs": [],
   "source": [
    "class Klass: # class Klass(object)가 생략, 모든 Class type은 object라는 기본 뼈대를 상속받음\n",
    "    # new는 기본 뼈대를 만들어주고, init은 기본 뼈대에 각 객체특성에 맞는 값들 할당\n",
    "    # new는 cls를 받으니 인스턴스 메소드는 아님\n",
    "    def __new__(cls, *args):  # 컨스트럭터\n",
    "        print(f'{cls=}')\n",
    "        print('new', args)\n",
    "        # 작성한 인스터스를 반환함 \n",
    "        # super() : 부모 클래스에 접근\n",
    "        return super().__new__(cls)\n",
    "    \n",
    "\n",
    "    def __init__(self, *args): # 이니셜라이저\n",
    "        # 인스턴스 초기화는 여기에서 수행함\n",
    "        print('init', args)"
   ]
  },
  {
   "cell_type": "code",
   "execution_count": 32,
   "metadata": {},
   "outputs": [
    {
     "name": "stdout",
     "output_type": "stream",
     "text": [
      "cls=<class '__main__.Klass'>\n",
      "new (1, 2, 3)\n",
      "init (1, 2, 3)\n"
     ]
    }
   ],
   "source": [
    "# 인스턴스화\n",
    "kls = Klass(1, 2, 3)"
   ]
  },
  {
   "cell_type": "markdown",
   "metadata": {},
   "source": [
    "### \\_\\_new\\_\\_() 사용 시 주의점"
   ]
  },
  {
   "cell_type": "code",
   "execution_count": 1,
   "metadata": {},
   "outputs": [],
   "source": [
    "class Evil:\n",
    "    def __new__(cls, *args):\n",
    "        return 1\n",
    "    # init 기능 없음\n",
    "    # 변수, 함수 다 없음"
   ]
  },
  {
   "cell_type": "code",
   "execution_count": 2,
   "metadata": {},
   "outputs": [],
   "source": [
    "# Evil 클래스 인스턴스화\n",
    "evil = Evil()"
   ]
  },
  {
   "cell_type": "code",
   "execution_count": 3,
   "metadata": {},
   "outputs": [
    {
     "data": {
      "text/plain": [
       "False"
      ]
     },
     "execution_count": 3,
     "metadata": {},
     "output_type": "execute_result"
    }
   ],
   "source": [
    "isinstance(evil, Evil)\n",
    "# 왜 False로 뜨냐면, init이 없고, new에서 return 1했기 때문에 evil은 인스턴스가 아닌 int"
   ]
  },
  {
   "cell_type": "code",
   "execution_count": 4,
   "metadata": {},
   "outputs": [
    {
     "data": {
      "text/plain": [
       "int"
      ]
     },
     "execution_count": 4,
     "metadata": {},
     "output_type": "execute_result"
    }
   ],
   "source": [
    "type(evil)"
   ]
  },
  {
   "cell_type": "code",
   "execution_count": 5,
   "metadata": {},
   "outputs": [
    {
     "data": {
      "text/plain": [
       "1"
      ]
     },
     "execution_count": 5,
     "metadata": {},
     "output_type": "execute_result"
    }
   ],
   "source": [
    "# 인스턴스는 __new__()의 반환값\n",
    "evil"
   ]
  },
  {
   "cell_type": "code",
   "execution_count": 6,
   "metadata": {},
   "outputs": [
    {
     "data": {
      "text/plain": [
       "['__class__',\n",
       " '__delattr__',\n",
       " '__dict__',\n",
       " '__dir__',\n",
       " '__doc__',\n",
       " '__eq__',\n",
       " '__format__',\n",
       " '__ge__',\n",
       " '__getattribute__',\n",
       " '__gt__',\n",
       " '__hash__',\n",
       " '__init__',\n",
       " '__init_subclass__',\n",
       " '__le__',\n",
       " '__lt__',\n",
       " '__module__',\n",
       " '__ne__',\n",
       " '__new__',\n",
       " '__reduce__',\n",
       " '__reduce_ex__',\n",
       " '__repr__',\n",
       " '__setattr__',\n",
       " '__sizeof__',\n",
       " '__str__',\n",
       " '__subclasshook__',\n",
       " '__weakref__']"
      ]
     },
     "execution_count": 6,
     "metadata": {},
     "output_type": "execute_result"
    }
   ],
   "source": [
    "# 파이썬에서 클래스 상속 문법 : (부모 클래스) >> 괄호안에 부모 클래스 넣기\n",
    "# 부모 클래스가 가지고있는 property, method 를 자식 클래스가 쓸 수 있다.\n",
    "\n",
    "class MyClass(Evil):\n",
    "    def print_class(self):\n",
    "        print('MyClass')\n",
    "\n",
    "dir(Evil)"
   ]
  },
  {
   "cell_type": "code",
   "execution_count": 8,
   "metadata": {},
   "outputs": [
    {
     "data": {
      "text/plain": [
       "['__abs__',\n",
       " '__add__',\n",
       " '__and__',\n",
       " '__bool__',\n",
       " '__ceil__',\n",
       " '__class__',\n",
       " '__delattr__',\n",
       " '__dir__',\n",
       " '__divmod__',\n",
       " '__doc__',\n",
       " '__eq__',\n",
       " '__float__',\n",
       " '__floor__',\n",
       " '__floordiv__',\n",
       " '__format__',\n",
       " '__ge__',\n",
       " '__getattribute__',\n",
       " '__getnewargs__',\n",
       " '__gt__',\n",
       " '__hash__',\n",
       " '__index__',\n",
       " '__init__',\n",
       " '__init_subclass__',\n",
       " '__int__',\n",
       " '__invert__',\n",
       " '__le__',\n",
       " '__lshift__',\n",
       " '__lt__',\n",
       " '__mod__',\n",
       " '__mul__',\n",
       " '__ne__',\n",
       " '__neg__',\n",
       " '__new__',\n",
       " '__or__',\n",
       " '__pos__',\n",
       " '__pow__',\n",
       " '__radd__',\n",
       " '__rand__',\n",
       " '__rdivmod__',\n",
       " '__reduce__',\n",
       " '__reduce_ex__',\n",
       " '__repr__',\n",
       " '__rfloordiv__',\n",
       " '__rlshift__',\n",
       " '__rmod__',\n",
       " '__rmul__',\n",
       " '__ror__',\n",
       " '__round__',\n",
       " '__rpow__',\n",
       " '__rrshift__',\n",
       " '__rshift__',\n",
       " '__rsub__',\n",
       " '__rtruediv__',\n",
       " '__rxor__',\n",
       " '__setattr__',\n",
       " '__sizeof__',\n",
       " '__str__',\n",
       " '__sub__',\n",
       " '__subclasshook__',\n",
       " '__truediv__',\n",
       " '__trunc__',\n",
       " '__xor__',\n",
       " 'as_integer_ratio',\n",
       " 'bit_count',\n",
       " 'bit_length',\n",
       " 'conjugate',\n",
       " 'denominator',\n",
       " 'from_bytes',\n",
       " 'imag',\n",
       " 'numerator',\n",
       " 'real',\n",
       " 'to_bytes']"
      ]
     },
     "execution_count": 8,
     "metadata": {},
     "output_type": "execute_result"
    }
   ],
   "source": [
    "# 자식클래스 new를 통해 인스턴스화\n",
    "my = MyClass()  # my 값은 1이 됨 >> 클래스 type이 아닌 int type임\n",
    "\n",
    "dir(my)"
   ]
  },
  {
   "cell_type": "code",
   "execution_count": 9,
   "metadata": {
    "tags": [
     "raises-exception"
    ]
   },
   "outputs": [
    {
     "ename": "AttributeError",
     "evalue": "'int' object has no attribute 'print_class'",
     "output_type": "error",
     "traceback": [
      "\u001b[1;31m---------------------------------------------------------------------------\u001b[0m",
      "\u001b[1;31mAttributeError\u001b[0m                            Traceback (most recent call last)",
      "Input \u001b[1;32mIn [9]\u001b[0m, in \u001b[0;36m<cell line: 2>\u001b[1;34m()\u001b[0m\n\u001b[0;32m      1\u001b[0m \u001b[38;5;66;03m# 추가되었어야 할 메서드를 이용할 수 없음\u001b[39;00m\n\u001b[1;32m----> 2\u001b[0m \u001b[43mmy\u001b[49m\u001b[38;5;241;43m.\u001b[39;49m\u001b[43mprint_class\u001b[49m()\n",
      "\u001b[1;31mAttributeError\u001b[0m: 'int' object has no attribute 'print_class'"
     ]
    }
   ],
   "source": [
    "# 추가되었어야 할 메서드를 이용할 수 없음 \n",
    "# my가 instance가 아니라 new로 인해 1로 반환되어서 (클래스 type이 아님)\n",
    "my.print_class()"
   ]
  },
  {
   "cell_type": "code",
   "execution_count": 34,
   "metadata": {},
   "outputs": [
    {
     "data": {
      "text/plain": [
       "1"
      ]
     },
     "execution_count": 34,
     "metadata": {},
     "output_type": "execute_result"
    }
   ],
   "source": [
    "my"
   ]
  },
  {
   "cell_type": "markdown",
   "metadata": {},
   "source": [
    "## 프로퍼티 ── 인스턴스 메서드를 인스턴스 변수와 같이 다룸"
   ]
  },
  {
   "cell_type": "code",
   "execution_count": 24,
   "metadata": {},
   "outputs": [],
   "source": [
    "# 필드 = 프로퍼티 = value (변수)\n",
    "# 인스턴스 메소드 : self 키워드가 있는 메소드\n",
    "# 어떻게 인스턴스 메소드와 인스턴스 변수를 같이 다룰까? >> getter(), setter() 를 통해 \n",
    "# 값에 직접 접근하여 변경하면 권장 안하므로, 메소드를 통해 변수에 접근하도록\n",
    "\n",
    "#@property\n",
    "# @로 무엇을 꾸며주는거지? ==> (함수 or 클래스)\n",
    "# 함수를 꾸며줄거면 함수선언 (def) 위에 데코레이터를 올림\n",
    "# @데코레이터\n",
    "# def\n",
    "\n",
    "# 클래스를 꾸며줄거면 클래스 안에있는 메소드 위에 @를 해준다.\n",
    "\n",
    "# 변수를 가져온다 : getter\n",
    "# @property, getattribute 가 getter의 역할 \n",
    "\n",
    "class Book:\n",
    "    def __init__(self, raw_price):\n",
    "        if raw_price < 0: # 원가가 음수면 초기화도 되지않도록 만듦\n",
    "            raise ValueError('price must be positive')\n",
    "        self.raw_price = raw_price\n",
    "        self._discounts = 0\n",
    "    @property # 클래스 데코레이터 >> @property는 getter의 역할을함\n",
    "    def discounts(self):\n",
    "        return self._discounts\n",
    "    \n",
    "    # setter역할\n",
    "    @discounts.setter\n",
    "    def discounts(self, value):\n",
    "        if value < 0 or 100 < value:\n",
    "            raise ValueError(\n",
    "                'discounts must be between 0 and 100')\n",
    "        self._discounts = value\n",
    "    @property\n",
    "    def price(self):\n",
    "        multi = 100 - self._discounts\n",
    "        return int(self.raw_price * multi / 100)"
   ]
  },
  {
   "cell_type": "markdown",
   "metadata": {},
   "source": [
    "#### 저 위의 코드에 @property (get), @discount.setter (set) 을 다 주석처리하면\n",
    "#### 값 변경이 자유로워짐 (private에 자유접근) >> 캡슐화 x\n",
    "#### 그래서 아래 할인율 120을 설정해도 에러가 나야하는데, 에러가 발생하지 않음, 결과 출력도 메모리로 출력됨\n",
    "#### 이걸 방지하기 위해 사용하는 것임 >> class decorater (get,set) 선택이 아니라 필수로 써야함"
   ]
  },
  {
   "cell_type": "code",
   "execution_count": 25,
   "metadata": {},
   "outputs": [
    {
     "data": {
      "text/plain": [
       "0"
      ]
     },
     "execution_count": 25,
     "metadata": {},
     "output_type": "execute_result"
    }
   ],
   "source": [
    "book = Book(2000) # 인스턴스화\n",
    "\n",
    "book.discounts  # 초기 할인율 0 (init에 dc = 0임), 바꿀거면 인스턴스화때 dc율도 입력"
   ]
  },
  {
   "cell_type": "code",
   "execution_count": 26,
   "metadata": {},
   "outputs": [
    {
     "data": {
      "text/plain": [
       "2000"
      ]
     },
     "execution_count": 26,
     "metadata": {},
     "output_type": "execute_result"
    }
   ],
   "source": [
    "book.price  # 초기 가격 2000"
   ]
  },
  {
   "cell_type": "code",
   "execution_count": 27,
   "metadata": {},
   "outputs": [
    {
     "data": {
      "text/plain": [
       "1600"
      ]
     },
     "execution_count": 27,
     "metadata": {},
     "output_type": "execute_result"
    }
   ],
   "source": [
    "book.discounts = 20  # setter로 접근해서 할인율 설정 >> discount보면 property라 되어있음 (데코레이터 처리)\n",
    "book.price  # 할인 후의 가격"
   ]
  },
  {
   "cell_type": "code",
   "execution_count": 28,
   "metadata": {
    "tags": [
     "raises-exception"
    ]
   },
   "outputs": [
    {
     "ename": "ValueError",
     "evalue": "discounts must be between 0 and 100",
     "output_type": "error",
     "traceback": [
      "\u001b[1;31m---------------------------------------------------------------------------\u001b[0m",
      "\u001b[1;31mValueError\u001b[0m                                Traceback (most recent call last)",
      "Input \u001b[1;32mIn [28]\u001b[0m, in \u001b[0;36m<cell line: 1>\u001b[1;34m()\u001b[0m\n\u001b[1;32m----> 1\u001b[0m \u001b[43mbook\u001b[49m\u001b[38;5;241;43m.\u001b[39;49m\u001b[43mdiscounts\u001b[49m \u001b[38;5;241m=\u001b[39m \u001b[38;5;241m120\u001b[39m\n",
      "Input \u001b[1;32mIn [24]\u001b[0m, in \u001b[0;36mBook.discounts\u001b[1;34m(self, value)\u001b[0m\n\u001b[0;32m     28\u001b[0m \u001b[38;5;129m@discounts\u001b[39m\u001b[38;5;241m.\u001b[39msetter\n\u001b[0;32m     29\u001b[0m \u001b[38;5;28;01mdef\u001b[39;00m \u001b[38;5;21mdiscounts\u001b[39m(\u001b[38;5;28mself\u001b[39m, value):\n\u001b[0;32m     30\u001b[0m     \u001b[38;5;28;01mif\u001b[39;00m value \u001b[38;5;241m<\u001b[39m \u001b[38;5;241m0\u001b[39m \u001b[38;5;129;01mor\u001b[39;00m \u001b[38;5;241m100\u001b[39m \u001b[38;5;241m<\u001b[39m value:\n\u001b[1;32m---> 31\u001b[0m         \u001b[38;5;28;01mraise\u001b[39;00m \u001b[38;5;167;01mValueError\u001b[39;00m(\n\u001b[0;32m     32\u001b[0m             \u001b[38;5;124m'\u001b[39m\u001b[38;5;124mdiscounts must be between 0 and 100\u001b[39m\u001b[38;5;124m'\u001b[39m)\n\u001b[0;32m     33\u001b[0m     \u001b[38;5;28mself\u001b[39m\u001b[38;5;241m.\u001b[39m_discounts \u001b[38;5;241m=\u001b[39m value\n",
      "\u001b[1;31mValueError\u001b[0m: discounts must be between 0 and 100"
     ]
    }
   ],
   "source": [
    "book.discounts = 120  # 할인율이 100을 초과하면 에러 발생"
   ]
  },
  {
   "cell_type": "markdown",
   "metadata": {},
   "source": [
    "### property ── 값을 얻을 때 호출되는 메서드 (get함수)"
   ]
  },
  {
   "cell_type": "markdown",
   "metadata": {},
   "source": [
    "### setter ── 값을 설정할 때 호출되는 메서드 (set함수)"
   ]
  },
  {
   "cell_type": "code",
   "execution_count": 29,
   "metadata": {
    "tags": [
     "raises-exception"
    ]
   },
   "outputs": [
    {
     "ename": "ValueError",
     "evalue": "discounts must be between 0 and 100",
     "output_type": "error",
     "traceback": [
      "\u001b[1;31m---------------------------------------------------------------------------\u001b[0m",
      "\u001b[1;31mValueError\u001b[0m                                Traceback (most recent call last)",
      "Input \u001b[1;32mIn [29]\u001b[0m, in \u001b[0;36m<cell line: 3>\u001b[1;34m()\u001b[0m\n\u001b[0;32m      1\u001b[0m \u001b[38;5;66;03m# 접근제한자 \u001b[39;00m\n\u001b[1;32m----> 3\u001b[0m \u001b[43mbook\u001b[49m\u001b[38;5;241;43m.\u001b[39;49m\u001b[43mdiscounts\u001b[49m \u001b[38;5;241m=\u001b[39m \u001b[38;5;241m-\u001b[39m\u001b[38;5;241m20\u001b[39m\n",
      "Input \u001b[1;32mIn [24]\u001b[0m, in \u001b[0;36mBook.discounts\u001b[1;34m(self, value)\u001b[0m\n\u001b[0;32m     28\u001b[0m \u001b[38;5;129m@discounts\u001b[39m\u001b[38;5;241m.\u001b[39msetter\n\u001b[0;32m     29\u001b[0m \u001b[38;5;28;01mdef\u001b[39;00m \u001b[38;5;21mdiscounts\u001b[39m(\u001b[38;5;28mself\u001b[39m, value):\n\u001b[0;32m     30\u001b[0m     \u001b[38;5;28;01mif\u001b[39;00m value \u001b[38;5;241m<\u001b[39m \u001b[38;5;241m0\u001b[39m \u001b[38;5;129;01mor\u001b[39;00m \u001b[38;5;241m100\u001b[39m \u001b[38;5;241m<\u001b[39m value:\n\u001b[1;32m---> 31\u001b[0m         \u001b[38;5;28;01mraise\u001b[39;00m \u001b[38;5;167;01mValueError\u001b[39;00m(\n\u001b[0;32m     32\u001b[0m             \u001b[38;5;124m'\u001b[39m\u001b[38;5;124mdiscounts must be between 0 and 100\u001b[39m\u001b[38;5;124m'\u001b[39m)\n\u001b[0;32m     33\u001b[0m     \u001b[38;5;28mself\u001b[39m\u001b[38;5;241m.\u001b[39m_discounts \u001b[38;5;241m=\u001b[39m value\n",
      "\u001b[1;31mValueError\u001b[0m: discounts must be between 0 and 100"
     ]
    }
   ],
   "source": [
    "# 접근제한자 \n",
    "\n",
    "book.discounts = -20"
   ]
  },
  {
   "cell_type": "code",
   "execution_count": 30,
   "metadata": {
    "tags": [
     "raises-exception"
    ]
   },
   "outputs": [
    {
     "ename": "AttributeError",
     "evalue": "can't set attribute 'price'",
     "output_type": "error",
     "traceback": [
      "\u001b[1;31m---------------------------------------------------------------------------\u001b[0m",
      "\u001b[1;31mAttributeError\u001b[0m                            Traceback (most recent call last)",
      "Input \u001b[1;32mIn [30]\u001b[0m, in \u001b[0;36m<cell line: 1>\u001b[1;34m()\u001b[0m\n\u001b[1;32m----> 1\u001b[0m \u001b[43mbook\u001b[49m\u001b[38;5;241;43m.\u001b[39;49m\u001b[43mprice\u001b[49m \u001b[38;5;241m=\u001b[39m \u001b[38;5;241m1000\u001b[39m\n",
      "\u001b[1;31mAttributeError\u001b[0m: can't set attribute 'price'"
     ]
    }
   ],
   "source": [
    "book.price = 1000 # price는 입력없는 method"
   ]
  },
  {
   "cell_type": "markdown",
   "metadata": {},
   "source": [
    "## 클래스와 인스턴스의 프라이빗 속성"
   ]
  },
  {
   "cell_type": "markdown",
   "metadata": {},
   "source": [
    "## 언더스코어로 시작하는 속성"
   ]
  },
  {
   "cell_type": "code",
   "execution_count": 31,
   "metadata": {},
   "outputs": [
    {
     "data": {
      "text/plain": [
       "20"
      ]
     },
     "execution_count": 31,
     "metadata": {},
     "output_type": "execute_result"
    }
   ],
   "source": [
    "book._discounts  # _로 시작하는 변수도 참조할 수 있음\n",
    "# _로 시작하는 속성 : 암묵적인 합의 변경하지 마세요"
   ]
  },
  {
   "cell_type": "markdown",
   "metadata": {},
   "source": [
    "### 언더스코어 2개로 시작하는 속성 : 참조 불가"
   ]
  },
  {
   "cell_type": "code",
   "execution_count": 34,
   "metadata": {},
   "outputs": [],
   "source": [
    "class Klass:\n",
    "    def __init__(self, x):\n",
    "        self.__x = x"
   ]
  },
  {
   "cell_type": "code",
   "execution_count": 35,
   "metadata": {
    "tags": [
     "raises-exception"
    ]
   },
   "outputs": [
    {
     "data": {
      "text/plain": [
       "10"
      ]
     },
     "execution_count": 35,
     "metadata": {},
     "output_type": "execute_result"
    }
   ],
   "source": [
    "kls = Klass(10) # 인스턴스화 시켰음\n",
    "kls.__x  # 인스턴스의 프로퍼티 접근 >> 이 이름으로는 참조할 수 없음\n",
    "# self._x 였으면 kls._x로 접근가능한데 언더스코어 2개는 이렇게 참조할 수 없음\n"
   ]
  },
  {
   "cell_type": "code",
   "execution_count": 45,
   "metadata": {},
   "outputs": [
    {
     "data": {
      "text/plain": [
       "10"
      ]
     },
     "execution_count": 45,
     "metadata": {},
     "output_type": "execute_result"
    }
   ],
   "source": [
    "# 이렇게 해야만이 __x에 접근가능\n",
    "kls._Klass__x  # 변환 규칙을 알고 있다면 참조할 수 있음"
   ]
  },
  {
   "cell_type": "markdown",
   "metadata": {},
   "source": [
    "### 프라이빗 속성에 대한 파이썬 커뮤니티의 사상\n",
    "\n",
    "#### 열려있다 >> 개발자가 직접 관리해라"
   ]
  },
  {
   "cell_type": "markdown",
   "metadata": {},
   "source": [
    "# 클래스 ── 인스턴스의 모형이 되는 객체"
   ]
  },
  {
   "cell_type": "markdown",
   "metadata": {},
   "source": [
    "## 클래스 변수 ── 클래스 객체가 유지하는 변수"
   ]
  },
  {
   "cell_type": "code",
   "execution_count": 36,
   "metadata": {},
   "outputs": [],
   "source": [
    "# 클래스 객체가 유지를한다 :\n",
    "# 누적값의 개념?\n",
    "# 클래스 안에서 유지되어야 하고\n",
    "# 유지가 되니까 그 값을 공유할 수 있음\n",
    "\n",
    "# 클래스 변수를 가진 클래스 정의\n",
    "class Page:\n",
    "    book_title = 'Python Practice Book'"
   ]
  },
  {
   "cell_type": "code",
   "execution_count": 38,
   "metadata": {},
   "outputs": [
    {
     "data": {
      "text/plain": [
       "'Python Practice Book'"
      ]
     },
     "execution_count": 38,
     "metadata": {},
     "output_type": "execute_result"
    }
   ],
   "source": [
    "# 인스턴스화 하지않고 클래스에 직접적 접근 > 클래스 변수\n",
    "# 스태틱메소드와 비슷한 느낌? (인스턴스화 하지 않고 쓸 수 있는 메소드)\n",
    "\n",
    "# 클래스 변수 : Page (클래스 이름 그대로 이용)\n",
    "Page.book_title  # 인스턴스가 없어도 참조할 수 있음"
   ]
  },
  {
   "cell_type": "code",
   "execution_count": 39,
   "metadata": {},
   "outputs": [
    {
     "data": {
      "text/plain": [
       "'No title'"
      ]
     },
     "execution_count": 39,
     "metadata": {},
     "output_type": "execute_result"
    }
   ],
   "source": [
    "Page.book_title = 'No title'  # 클래스 변수 업데이트\n",
    "Page.book_title"
   ]
  },
  {
   "cell_type": "markdown",
   "metadata": {},
   "source": [
    "### 클래스 변수는 인스턴스에서도 참조 가능"
   ]
  },
  {
   "cell_type": "code",
   "execution_count": 40,
   "metadata": {},
   "outputs": [],
   "source": [
    "first_page = Page()\n",
    "second_page = Page()"
   ]
  },
  {
   "cell_type": "code",
   "execution_count": 41,
   "metadata": {},
   "outputs": [
    {
     "data": {
      "text/plain": [
       "'No title'"
      ]
     },
     "execution_count": 41,
     "metadata": {},
     "output_type": "execute_result"
    }
   ],
   "source": [
    "# 클래스 변수는 인스턴스에서도 참조 가능\n",
    "first_page.book_title"
   ]
  },
  {
   "cell_type": "code",
   "execution_count": 44,
   "metadata": {},
   "outputs": [
    {
     "data": {
      "text/plain": [
       "'No title'"
      ]
     },
     "execution_count": 44,
     "metadata": {},
     "output_type": "execute_result"
    }
   ],
   "source": [
    "# 원래는 객체마다 book_title이 달라야하는데 \n",
    "# 클래스 변수로 접근하여 바뀐 값으로 공유하고 있음\n",
    "second_page.book_title"
   ]
  },
  {
   "cell_type": "code",
   "execution_count": 45,
   "metadata": {},
   "outputs": [],
   "source": [
    "# 클래스 변수 업데이트\n",
    "Page.book_title = 'Python Practice Book'"
   ]
  },
  {
   "cell_type": "code",
   "execution_count": 46,
   "metadata": {},
   "outputs": [
    {
     "data": {
      "text/plain": [
       "'Python Practice Book'"
      ]
     },
     "execution_count": 46,
     "metadata": {},
     "output_type": "execute_result"
    }
   ],
   "source": [
    "# 클래스 변수는 모든 인스턴스에서 공유됨\n",
    "first_page.book_title"
   ]
  },
  {
   "cell_type": "code",
   "execution_count": 47,
   "metadata": {},
   "outputs": [
    {
     "data": {
      "text/plain": [
       "'Python Practice Book'"
      ]
     },
     "execution_count": 47,
     "metadata": {},
     "output_type": "execute_result"
    }
   ],
   "source": [
    "second_page.book_title"
   ]
  },
  {
   "cell_type": "code",
   "execution_count": 48,
   "metadata": {},
   "outputs": [
    {
     "data": {
      "text/plain": [
       "'[Draft]Python Practice Book'"
      ]
     },
     "execution_count": 48,
     "metadata": {},
     "output_type": "execute_result"
    }
   ],
   "source": [
    "# 아래는 인스턴스 변수가 됨\n",
    "first_page.book_title = '[Draft]Python Practice Book'\n",
    "first_page.book_title"
   ]
  },
  {
   "cell_type": "code",
   "execution_count": 49,
   "metadata": {},
   "outputs": [
    {
     "data": {
      "text/plain": [
       "'Python Practice Book'"
      ]
     },
     "execution_count": 49,
     "metadata": {},
     "output_type": "execute_result"
    }
   ],
   "source": [
    "# 클래스 변수는 변경되지 않음\n",
    "Page.book_title"
   ]
  },
  {
   "cell_type": "code",
   "execution_count": 50,
   "metadata": {},
   "outputs": [
    {
     "data": {
      "text/plain": [
       "'[Draft]Python Practice Book'"
      ]
     },
     "execution_count": 50,
     "metadata": {},
     "output_type": "execute_result"
    }
   ],
   "source": [
    "first_page.book_title  # 인스턴스 변수"
   ]
  },
  {
   "cell_type": "code",
   "execution_count": 51,
   "metadata": {},
   "outputs": [],
   "source": [
    "# 인스턴스 변수 삭제\n",
    "del first_page.book_title"
   ]
  },
  {
   "cell_type": "code",
   "execution_count": 52,
   "metadata": {},
   "outputs": [
    {
     "data": {
      "text/plain": [
       "'Python Practice Book'"
      ]
     },
     "execution_count": 52,
     "metadata": {},
     "output_type": "execute_result"
    }
   ],
   "source": [
    "# 인스턴스 속성이 아니므로, 클래스 속성이 검색됨\n",
    "first_page.book_title"
   ]
  },
  {
   "cell_type": "markdown",
   "metadata": {},
   "source": [
    "## 클래스 메서드 ── 클래스에 속한 메서드"
   ]
  },
  {
   "cell_type": "code",
   "execution_count": null,
   "metadata": {},
   "outputs": [],
   "source": [
    "# self : 인스턴스 메소드\n",
    "# 클래스 메소드는 self 대신에 관례적으로 cls 사용"
   ]
  },
  {
   "cell_type": "code",
   "execution_count": 53,
   "metadata": {},
   "outputs": [],
   "source": [
    "# 속성을 이용한 정렬에 사용할 수 있는 표준 라이브러리를 임포트\n",
    "# property = attribute = field\n",
    "from operator import attrgetter"
   ]
  },
  {
   "cell_type": "code",
   "execution_count": 54,
   "metadata": {},
   "outputs": [],
   "source": [
    "class Page:\n",
    "    book_title = 'Python Practice Book' # 클래스 변수 : self 없으니까\n",
    "    def __init__(self, num, content): # 생성자는 인자 2개 필수로 받음\n",
    "        self.num = num # 인스턴스 변수 : self 있음\n",
    "        self.content = content\n",
    "    def output(self): # 인스턴스 메소드\n",
    "        return f'{self.content}' # content의 getter 역할\n",
    "    # 클래스 메서드의 첫 번째 인수는 클래스 객체\n",
    "    # @classmethod 자체의 역할 : 아래있는 함수를 클래스 메소드화 시킴 @property와는 다른역할\n",
    "    @classmethod # 클래스 데코레이터 => 클래스의 메소드를 데코레이트함\n",
    "    def print_pages(cls, *pages): #   * : 가변위치인자들을 받아들인다. \n",
    "        # 클래스 객체 이용\n",
    "        # 인스턴스가아닌 클래스 Page에 설정된 book_title 출력 \n",
    "        # 클래스변수가 변경된거 아니면 항상 Python Practive Book이 출력됨\n",
    "        print(cls.book_title)\n",
    "        pages = list(pages) # 이후 sorted 활용하기 위해 list화\n",
    "\n",
    "        # 페이지 순으로 정렬해서 출력\n",
    "        for page in sorted(pages, key=attrgetter('num')): # num 기준으로 sorting, lambda대신 attrgetter 활용\n",
    "            print(page.output())"
   ]
  },
  {
   "cell_type": "code",
   "execution_count": 55,
   "metadata": {},
   "outputs": [],
   "source": [
    "# 인스턴스 3개 선언\n",
    "first = Page(1, 'first page')\n",
    "second = Page(2, 'second page')\n",
    "third = Page(3, 'third page')"
   ]
  },
  {
   "cell_type": "code",
   "execution_count": 63,
   "metadata": {},
   "outputs": [
    {
     "name": "stdout",
     "output_type": "stream",
     "text": [
      "Python Practice Book\n",
      "first page\n",
      "second page\n",
      "third page\n"
     ]
    }
   ],
   "source": [
    "# 클래스 메서드(print_pages) 호출\n",
    "# 가변위치인자라서 여러개를 입력으로 받아들일 수 있음!! (가변위치인자 *의 역할!, 중요)\n",
    "Page.print_pages(first, third, second)\n",
    "\n",
    "# 출력\n",
    "# Python Practice Book >> print(cls.book_title)에 걸린것 >> 인스턴스가 아닌 클래스 변수이므로 얘가 출력\n",
    "# first page  \n",
    "# second page\n",
    "# third page"
   ]
  },
  {
   "cell_type": "code",
   "execution_count": 64,
   "metadata": {},
   "outputs": [
    {
     "name": "stdout",
     "output_type": "stream",
     "text": [
      "Python Practice Book\n",
      "first page\n",
      "second page\n",
      "third page\n"
     ]
    }
   ],
   "source": [
    "# 인스턴스에서도 호출할 수 있음\n",
    "first.print_pages(first, third, second)"
   ]
  },
  {
   "cell_type": "markdown",
   "metadata": {},
   "source": [
    "## 스태틱 메서드 ── 함수처럼 동작하는 메서드"
   ]
  },
  {
   "cell_type": "code",
   "execution_count": 56,
   "metadata": {},
   "outputs": [],
   "source": [
    "class Page:\n",
    "    def __init__(self, num, content):\n",
    "        self.num = num\n",
    "        self.content = content\n",
    "    @staticmethod  # 스태틱 메서드로 정의, staticmethod라는 decorator를 써야만(이미 정의된 것) 아래 함수가 스태틱 메서드가 됨\n",
    "    def check_blank(page):\n",
    "        return bool(page.content)\n",
    "    \n",
    "    @staticmethod\n",
    "    def is_num(a):\n",
    "        if str(type(a)) == \"int\":\n",
    "            return True\n",
    "        return False"
   ]
  },
  {
   "cell_type": "code",
   "execution_count": 60,
   "metadata": {},
   "outputs": [
    {
     "data": {
      "text/plain": [
       "False"
      ]
     },
     "execution_count": 60,
     "metadata": {},
     "output_type": "execute_result"
    }
   ],
   "source": [
    "page = Page(1, '') # 스태틱 메서드는 인스턴스화 안 해도 됨\n",
    "Page.check_blank(page)"
   ]
  },
  {
   "cell_type": "code",
   "execution_count": 67,
   "metadata": {},
   "outputs": [],
   "source": [
    "def check_blank(page):  # 함수로 문제 없음 >> 클래스 밖에서 구현해도 됨\n",
    "    return bool(page.content)"
   ]
  },
  {
   "cell_type": "code",
   "execution_count": 68,
   "metadata": {},
   "outputs": [
    {
     "data": {
      "text/plain": [
       "False"
      ]
     },
     "execution_count": 68,
     "metadata": {},
     "output_type": "execute_result"
    }
   ],
   "source": [
    "check_blank(page)"
   ]
  },
  {
   "cell_type": "markdown",
   "metadata": {},
   "source": [
    "# 클래스 상속"
   ]
  },
  {
   "cell_type": "markdown",
   "metadata": {},
   "source": [
    "## 메서드 오버라이드와 super()를 사용한 베이스 클래스로의 접근"
   ]
  },
  {
   "cell_type": "code",
   "execution_count": null,
   "metadata": {},
   "outputs": [],
   "source": [
    "# 왜 상속 구조를 만들까? >> 반복되는게 싫어서\n",
    "\n",
    "# 상속을 통해 부모클래스가 만들어둔 값과 기능을 자식이 쓸 수 있다\n",
    "# 중복(반복)해서 만들지 않는다.\n",
    "\n",
    "# 기능이 확장됨, 기능이 달라짐, 재정의 ==> 메소드 오버라이드\n",
    "# ex) 어른의 걸음걸이와, 아기의 걸음걸이가 다르다. (두발로 걷는다 vs 네발로 걷는다)\n",
    "# 자식의 메소드가 우선되어진다\n",
    "\n",
    "# 메소드 오버로드\n",
    "# 같은 이름 쓰지 않는다. >> 변수명 클래스 안에서 메소드명 같은 이름은 안 됨\n",
    "# 같은 이름이 허용될 때 >> 들어오는 인자 개수가 다를 때 (아까 위의 discounts 함수가 예시)\n",
    "# discounts(self) vs discounts(self, value) >> 전자는 그저 현재 할인율 반환, 후자는 할인율 적용\n",
    "# 실제로는 굳이 메소드 오버로드 안 씀 >> 함수명을 바꾸고 말지"
   ]
  },
  {
   "cell_type": "code",
   "execution_count": 61,
   "metadata": {},
   "outputs": [],
   "source": [
    "class Page:\n",
    "    def __init__(self, num, content):\n",
    "        self.num = num\n",
    "        self.content = content\n",
    "    def output(self):\n",
    "        return f'{self.content}'"
   ]
  },
  {
   "cell_type": "code",
   "execution_count": 62,
   "metadata": {},
   "outputs": [],
   "source": [
    "# 메서드 오버라이드 >> 부모의 함수인 output 재정의\n",
    "# 부모클래스 Page를 상속받는 TitlePage\n",
    "class TitlePage(Page):\n",
    "    def output(self):\n",
    "        # 부모 클래스의 메서드는 자동으로 호출되지 않으므로\n",
    "        # 명시적으로 호출함 by super()\n",
    "        # super()는 바로 위의 부모 클래스를 의미\n",
    "        title = super().output() # 부모의 output() 값 반환 = title\n",
    "        # 부모와 다르게 title의 upper()로 반환 >> upper() : 대문자로 변환하는 함수\n",
    "        return title.upper() "
   ]
  },
  {
   "cell_type": "code",
   "execution_count": 64,
   "metadata": {},
   "outputs": [
    {
     "data": {
      "text/plain": [
       "'PYTHON PRACTICE BOOK'"
      ]
     },
     "execution_count": 64,
     "metadata": {},
     "output_type": "execute_result"
    }
   ],
   "source": [
    "title = TitlePage(0, 'Python Practice Book') # 자식 클래스 인스턴스화\n",
    "title.output()"
   ]
  },
  {
   "cell_type": "markdown",
   "metadata": {},
   "source": [
    "## 모든 객체는 object 클래스의 서브 클래스\n",
    "### 파이썬 안에서는 모든것이 객체다 == 모든 것이 클래스를 통해서 왔다\n",
    "### 파이썬에서 가장 상위의 클래스는 object 클래스"
   ]
  },
  {
   "cell_type": "code",
   "execution_count": 69,
   "metadata": {},
   "outputs": [],
   "source": [
    "class Length(float):  # 내장 타입의 서브 클래스 작성, float 클래스 상속받음\n",
    "    def to_cm(self):\n",
    "        # float class의 __str__ : 뭔진 몰라도 문자열화 되겠구나~\n",
    "        return super().__str__() + 'cm'"
   ]
  },
  {
   "cell_type": "code",
   "execution_count": 70,
   "metadata": {},
   "outputs": [
    {
     "name": "stdout",
     "output_type": "stream",
     "text": [
      "16.0cm\n",
      "<class 'str'>\n"
     ]
    }
   ],
   "source": [
    "pencil_length = Length(16)\n",
    "print(pencil_length.to_cm())\n",
    "print(type(pencil_length.to_cm())) # str"
   ]
  },
  {
   "cell_type": "markdown",
   "metadata": {},
   "source": [
    "## 다중 상속 ── 여러 베이스 클래스를 지정"
   ]
  },
  {
   "cell_type": "code",
   "execution_count": 71,
   "metadata": {},
   "outputs": [],
   "source": [
    "# 다중 상속 복잡하다 그러므로 상속의 우선순위를 정해야함 >> by __mro__ \n",
    "# 파이썬은 다중 상속을 지원한다.\n",
    "\n",
    "# 추상적인 메소드가 하나 이상이면 추상클래스\n",
    "# 추상 클래스 : 추상적으로 내 안에있는 메소드를 정의해둘게 나를 상속한 후 구체화해서 써라 \n",
    "# 직계구조보단 병렬구조일때 쓰면 될 듯? >> 모든 자식의 부모가 같을 때\n",
    "# 직계구조면 굳이 추상클래스를 만들 이유가 없음 (구체화된 클래스를 상속받고 말지)\n",
    "\n",
    "\n",
    "# 자바는 다중 상속 지원하지 않음\n",
    "# 인터페이스를 통해서 다중 상속 기능 구현 가능\n",
    "# 인터페이스 : 모든게 추상적, 모든게 이름만 있음 (클래스는 아님)\n",
    "# 나를 클래스에 적용해서 나를 구체화 시킨다음에 써라 "
   ]
  },
  {
   "cell_type": "code",
   "execution_count": 72,
   "metadata": {},
   "outputs": [],
   "source": [
    "class HTMLPageMixin:\n",
    "    def to_html(self):\n",
    "        return f'<html><body>{self.output()}</body></html>'"
   ]
  },
  {
   "cell_type": "code",
   "execution_count": 73,
   "metadata": {},
   "outputs": [],
   "source": [
    "# 다중 상속을 사용한 Mixin 이용\n",
    "class WebPage(Page, HTMLPageMixin):\n",
    "    pass"
   ]
  },
  {
   "cell_type": "code",
   "execution_count": 76,
   "metadata": {},
   "outputs": [
    {
     "data": {
      "text/plain": [
       "'<html><body>web content</body></html>'"
      ]
     },
     "execution_count": 76,
     "metadata": {},
     "output_type": "execute_result"
    }
   ],
   "source": [
    "page = WebPage(0, 'web content')\n",
    "page.to_html()"
   ]
  },
  {
   "cell_type": "markdown",
   "metadata": {},
   "source": [
    "### 다중 상속 시 주의점"
   ]
  },
  {
   "cell_type": "code",
   "execution_count": 74,
   "metadata": {},
   "outputs": [],
   "source": [
    "class A:\n",
    "    def hello(self):\n",
    "        print('Hello')\n",
    "\n",
    "class B(A):\n",
    "    def hello(self):\n",
    "        print('Hola')\n",
    "        super().hello()  # 베이스 클래스의 메서드를 실행\n",
    "\n",
    "class C(A):\n",
    "    def hello(self):\n",
    "        print('안녕하세요')\n",
    "        super().hello()  # 베이스 클래스의 메서드를 실행\n",
    "\n",
    "class D(B, C):\n",
    "    def hello(self):\n",
    "        print('Xin Chao')\n",
    "        super().hello()  # 베이스 클래스의 메서드를 실행"
   ]
  },
  {
   "cell_type": "code",
   "execution_count": 75,
   "metadata": {},
   "outputs": [
    {
     "name": "stdout",
     "output_type": "stream",
     "text": [
      "Xin Chao\n",
      "Hola\n",
      "안녕하세요\n",
      "Hello\n"
     ]
    }
   ],
   "source": [
    "d = D()\n",
    "d.hello()"
   ]
  },
  {
   "cell_type": "markdown",
   "metadata": {},
   "source": [
    "### \\_\\_mro\\_\\_ 이용한 시용한 메서드 결정 순서 확인"
   ]
  },
  {
   "cell_type": "code",
   "execution_count": 76,
   "metadata": {},
   "outputs": [
    {
     "data": {
      "text/plain": [
       "(__main__.D, __main__.B, __main__.C, __main__.A, object)"
      ]
     },
     "execution_count": 76,
     "metadata": {},
     "output_type": "execute_result"
    }
   ],
   "source": [
    "D.__mro__  # 메서드 결정 순서 확인 (method resolution order)"
   ]
  },
  {
   "cell_type": "code",
   "execution_count": 80,
   "metadata": {},
   "outputs": [
    {
     "name": "stdout",
     "output_type": "stream",
     "text": [
      "Xin Chao\n",
      "Hola\n",
      "안녕하세요\n",
      "Hello\n"
     ]
    }
   ],
   "source": [
    "d.hello()"
   ]
  },
  {
   "cell_type": "markdown",
   "metadata": {},
   "source": [
    "# 정리"
   ]
  }
 ],
 "metadata": {
  "kernelspec": {
   "display_name": "Python 3",
   "language": "python",
   "name": "python3"
  },
  "language_info": {
   "codemirror_mode": {
    "name": "ipython",
    "version": 3
   },
   "file_extension": ".py",
   "mimetype": "text/x-python",
   "name": "python",
   "nbconvert_exporter": "python",
   "pygments_lexer": "ipython3",
   "version": "3.10.5"
  }
 },
 "nbformat": 4,
 "nbformat_minor": 4
}
