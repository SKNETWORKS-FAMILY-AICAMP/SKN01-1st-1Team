{
 "cells": [
  {
   "cell_type": "code",
   "execution_count": 5,
   "metadata": {},
   "outputs": [
    {
     "name": "stdout",
     "output_type": "stream",
     "text": [
      "원의 반지름: 30\n",
      "원의 둘레: 188.4\n",
      "원의 넓이: 2826.0\n",
      "원의 넓이: 2826.0\n",
      "원의 넓이: 2826.0\n"
     ]
    }
   ],
   "source": [
    "# 383 page\n",
    "\n",
    "import math\n",
    "\n",
    "try : # 시도할 부분\n",
    "    number_input_a = int(input(\"정수 입력> \"))\n",
    "\n",
    "    print(\"원의 반지름:\", number_input_a)\n",
    "    print(\"원의 둘레:\", 2 * 3.14 * number_input_a)\n",
    "\n",
    "    # 제곱 표현 a**2 or math lib 하고 pow(a,2)\n",
    "    print(\"원의 넓이:\", 3.14 * number_input_a * number_input_a) \n",
    "    print(\"원의 넓이:\", 3.14 * number_input_a ** 2)\n",
    "    print(\"원의 넓이:\", 3.14 * math.pow(number_input_a, 2))\n",
    "\n",
    "# except는 항상 except \"예외종류\" as \"예외 객체 변수이름\" 형식으로 선언 >> 예외종류는 그냥 Exception로 하면 됨 \n",
    "except Exception as e: # 예외 발생하면 처리할 부분\n",
    "    print(\"type(exception):\", type(e)) # e의 type : ValueError class\n",
    "    print(\"exception:\", e)"
   ]
  },
  {
   "cell_type": "code",
   "execution_count": 2,
   "metadata": {},
   "outputs": [
    {
     "name": "stdout",
     "output_type": "stream",
     "text": [
      "<class 'ValueError'>\n",
      "invalid literal for int() with base 10: 'a'\n"
     ]
    }
   ],
   "source": [
    "# 384 page\n",
    "\n",
    "# import 문에도 try except 처리 가능\n",
    "\n",
    "# try:\n",
    "#     import  \n",
    "# except:\n",
    "#     import\n",
    "\n",
    "import sys # 시스템 관련 기능이 모인 모듈\n",
    "\n",
    "list_number = [52, 273, 32, 72, 100]\n",
    "\n",
    "try:\n",
    "    number_input = int(input(\"정수입력> \"))\n",
    "\n",
    "    # f-string 2가지 표현\n",
    "    print(\"{}번째 요소 : {}\".format(number_input, list_number[number_input]))\n",
    "    \n",
    "    a = number_input\n",
    "    b = list_number[a]\n",
    "    print(f\"{a}번째 요소 : {b}\")\n",
    "\n",
    "# 예외 구분하기 385 page\n",
    "except IndexError as ie: # 인덱스 범위 초과한 경우\n",
    "    print(\"범위를 벗어난 값을 입력하셨습니다.\")\n",
    "    sys.exit() # 시스템 종료\n",
    "\n",
    "except ValueError as ve: # 숫자가 아닌 값을 입력한 경우 >> 이 경우는 ValueError에 해당\n",
    "    print(\"정수를 입력해 주세요\")\n",
    "    print(ve)\n",
    "\n",
    "except Exception as e: # Exception : 모든 종류의 error들의 부모\n",
    "    print(type(e))\n",
    "    print(e)"
   ]
  },
  {
   "cell_type": "markdown",
   "metadata": {},
   "source": [
    "#많이 할수록 글자 작아짐\n",
    "## 파이썬\n",
    "### 예외처리\n",
    "#### raise\n",
    "\n",
    "개발자가 적극적으로 직접적으로 일으키는 Exception"
   ]
  },
  {
   "cell_type": "code",
   "execution_count": null,
   "metadata": {},
   "outputs": [],
   "source": [
    "number = int(input(\"정수 입력>\"))\n",
    "# -는 int로 인식이 되나? (음수입력 가능?)\n",
    "\n",
    "if number > 0:\n",
    "    # 3개다 같은 역할, 근데 pass, ... 는 프로그램이 안 죽음 \n",
    "    raise NotImplementedError # 얘는 프로그램이 죽음\n",
    "    # pass\n",
    "    # ... \n",
    "else:\n",
    "    raise NotImplementedError\n",
    "\n",
    "# request : 크롤링할 때 사용\n",
    "\n",
    "# requests : 아주 잘 되어 있다 > 관련해서 클론코딩 ?\n",
    "# github python requests library"
   ]
  },
  {
   "cell_type": "code",
   "execution_count": 3,
   "metadata": {},
   "outputs": [],
   "source": [
    "# gitlab docker # gitlab을 docker 파일로 구축 (깃허브와 비슷한 역할임)\n",
    "# 이걸 하려면 항상 접근할 수 있는 서버가 있어야함 (독립, 서비스 받을 서버)\n",
    "# 리눅스 > 도커 > 깃랩 설치\n",
    "\n",
    "# 파이썬안의 모든 것은 거의 객체다 >> 예외처리 애들도 객체\n",
    "# raise의 역할 : 강제로 직접적으로 적극적으로 발생시킬 때 사용\n",
    "# 깃허브 : 깃을 이용한 하나의 서비스"
   ]
  },
  {
   "cell_type": "code",
   "execution_count": null,
   "metadata": {},
   "outputs": [],
   "source": []
  }
 ],
 "metadata": {
  "kernelspec": {
   "display_name": "Python 3",
   "language": "python",
   "name": "python3"
  },
  "language_info": {
   "codemirror_mode": {
    "name": "ipython",
    "version": 3
   },
   "file_extension": ".py",
   "mimetype": "text/x-python",
   "name": "python",
   "nbconvert_exporter": "python",
   "pygments_lexer": "ipython3",
   "version": "3.11.7"
  }
 },
 "nbformat": 4,
 "nbformat_minor": 2
}
