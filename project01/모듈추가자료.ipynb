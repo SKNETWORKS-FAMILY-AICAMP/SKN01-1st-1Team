{
 "cells": [
  {
   "cell_type": "markdown",
   "metadata": {},
   "source": [
    "# 모듈 ── 코드를 기술한 .py 파일"
   ]
  },
  {
   "cell_type": "markdown",
   "metadata": {},
   "source": [
    "## 모듈 작성"
   ]
  },
  {
   "cell_type": "markdown",
   "metadata": {
    "vscode": {
     "languageId": "raw"
    }
   },
   "source": [
    "## 모듈 작성\n",
    "\n",
    "모듈 => .py\n",
    "패키지 => .py 들을 모아둔것\n"
   ]
  },
  {
   "cell_type": "raw",
   "metadata": {},
   "source": [
    "샘플 코드에서는 최종 파일만 배포합니다"
   ]
  },
  {
   "cell_type": "code",
   "execution_count": 1,
   "metadata": {},
   "outputs": [],
   "source": [
    "# (주: encoder.py)\n",
    "import base64 # 내장 모듈 (.py file)\n",
    "\n",
    "\n",
    "def str_to_base64(x):\n",
    "    \"\"\"문자열을 base64 표현으로 변환함\n",
    "\n",
    "    b64encode()는 bytes-like object을 인수로 받으므로\n",
    "    문자열은 encode()로 bytes 타입으로 변환해 전달함\n",
    "    \"\"\"\n",
    "    return base64.b64encode(x.encode('utf-8')) # 보고싶은 변수 가져다 두고 f12 누르면 해당 기술이 구현된 위치로 이동"
   ]
  },
  {
   "cell_type": "code",
   "execution_count": 2,
   "metadata": {},
   "outputs": [
    {
     "data": {
      "text/plain": [
       "b'7JWI64WV7ZWY7IS47JqU'"
      ]
     },
     "execution_count": 2,
     "metadata": {},
     "output_type": "execute_result"
    }
   ],
   "source": [
    "str_to_base64(\"안녕하세요\") # 함수 동작 실행 > ipynb 파일이라 알아서 print 됨\n",
    "# b'' : byte 문자열이란 뜻\n",
    "# r'' : raw 문자열\n",
    "# t'' : txt 문자열"
   ]
  },
  {
   "cell_type": "markdown",
   "metadata": {},
   "source": [
    "## 모듈 임포트"
   ]
  },
  {
   "cell_type": "code",
   "execution_count": 9,
   "metadata": {},
   "outputs": [
    {
     "data": {
      "text/plain": [
       "'c:\\\\Users\\\\hojun\\\\Downloads\\\\workspace01\\\\project01'"
      ]
     },
     "execution_count": 9,
     "metadata": {},
     "output_type": "execute_result"
    }
   ],
   "source": [
    "import os\n",
    "\n",
    "os.getcwd() # current working dir\n",
    "# 출력결과 : 'c:\\\\Users\\\\hojun\\\\Downloads\\\\workspace01\\\\project01'\n",
    "\n",
    "# 모듈추가자료 파일 경로\n",
    "# C:\\Users\\hojun\\Downloads\\workspace01\\project01\\모듈추가자료.ipynb\n",
    "\n",
    "# test 파일 경로\n",
    "# C:\\Users\\hojun\\Downloads\\workspace01\\project01\\test\\test.py\n",
    "\n",
    "# 모듈추가자료 기준에서 .\\\\test\\\\test.py 로 불러야함"
   ]
  },
  {
   "cell_type": "code",
   "execution_count": 14,
   "metadata": {},
   "outputs": [
    {
     "name": "stdout",
     "output_type": "stream",
     "text": [
      "함수 임포트됨\n"
     ]
    },
    {
     "data": {
      "text/plain": [
       "'클래스 임포트 됨'"
      ]
     },
     "execution_count": 14,
     "metadata": {},
     "output_type": "execute_result"
    }
   ],
   "source": [
    "import encoder  # 모듈 임포트 >> 뒤에 .py가 생략되었다 생각하기 encoder.py\n",
    "from asdf.test import func, CL  # 디렉토리구분은 . 으로 하기 (test dir에 있는 test.py import)\n",
    "# 그냥 실행하면 import error남 해당 파일에 경로 접근을 위한 init이 필요함\n",
    "# 경로를 생성해주려면 해당 디렉토리에 __init__.py 생성해야함\n",
    "# __특수한역할__ : __function__의 의미 >> 웬만하면 __ __ 파일은 건드리면 안됨\n",
    "# 이렇게하면 이제 import가 됨\n",
    "# 그리고 웬만하면 dir, 파일이름은 중복으로 하지않기 ex) test.test >> asdf.test로 변경\n",
    "\n",
    "\n",
    "# from dir import (함수,클래스)\n",
    "# 보통 함수는 소문자 시작, 클래스는 대문자 시작\n",
    "\n",
    "func()\n",
    "\n",
    "instance = CL() # class도 () 안 넣으면, self augment 없다는 error 발생\n",
    "instance.method()\n",
    "\n",
    "\n",
    "# asdf의 파일 생성하니까 __pycache__ 란 dir이 생성됨 : 캐시파일\n",
    "# 이전 값으로 반영되어 에러날때 > 삭제후 재실행"
   ]
  },
  {
   "cell_type": "code",
   "execution_count": 17,
   "metadata": {},
   "outputs": [
    {
     "data": {
      "text/plain": [
       "<module 'encoder' from 'c:\\\\Users\\\\hojun\\\\Downloads\\\\workspace01\\\\project01\\\\encoder.py'>"
      ]
     },
     "execution_count": 17,
     "metadata": {},
     "output_type": "execute_result"
    }
   ],
   "source": [
    "# 변수 encoder는 module 클래스의 인스턴스\n",
    "type(encoder) # module type의 class\n",
    "encoder # ipynb는 print 지정안하면 맨 마지막거에 대한것만 출력"
   ]
  },
  {
   "cell_type": "code",
   "execution_count": 20,
   "metadata": {},
   "outputs": [
    {
     "data": {
      "text/plain": [
       "['__class__',\n",
       " '__delattr__',\n",
       " '__dict__',\n",
       " '__dir__',\n",
       " '__doc__',\n",
       " '__eq__',\n",
       " '__format__',\n",
       " '__ge__',\n",
       " '__getattribute__',\n",
       " '__gt__',\n",
       " '__hash__',\n",
       " '__init__',\n",
       " '__init_subclass__',\n",
       " '__le__',\n",
       " '__lt__',\n",
       " '__module__',\n",
       " '__ne__',\n",
       " '__new__',\n",
       " '__reduce__',\n",
       " '__reduce_ex__',\n",
       " '__repr__',\n",
       " '__setattr__',\n",
       " '__sizeof__',\n",
       " '__str__',\n",
       " '__subclasshook__',\n",
       " '__weakref__',\n",
       " 'method']"
      ]
     },
     "execution_count": 20,
     "metadata": {},
     "output_type": "execute_result"
    }
   ],
   "source": [
    "# encoder 모듈의 최상위 레벨 객체를 확인할 수 있음\n",
    "dir(encoder) # dir(x) : 해당 객체(x)가 가지고있는 property, method를 list로 나열\n",
    "dir(func)\n",
    "dir(CL) # Class가 만들어지면서 상속된 property들과 마지막엔 내가 직접적으로 만든 method가 나열"
   ]
  },
  {
   "cell_type": "code",
   "execution_count": 4,
   "metadata": {},
   "outputs": [
    {
     "data": {
      "text/plain": [
       "b'cHl0aG9u'"
      ]
     },
     "execution_count": 4,
     "metadata": {},
     "output_type": "execute_result"
    }
   ],
   "source": [
    "# 모듈 안에서 정의된 함수 호출\n",
    "encoder.str_to_base64('python')\n",
    "\n",
    "# 만약 import를 from encoder import str_to_base64 로 하면\n",
    "# str_to_base64('python') 으로 하면 됨, namespace 생략\n",
    "# 나중에 패키지(dir)이 많아지면 . 구분하고 파일이 길어지기 때문에 이걸 반복하지말고\n",
    "# 처음부터 import를 그렇게 하면 이후는 namespace 생략하고 쓰면 됨"
   ]
  },
  {
   "cell_type": "markdown",
   "metadata": {},
   "source": [
    "## python3 명령어로 직접 실행하기"
   ]
  },
  {
   "cell_type": "raw",
   "metadata": {
    "vscode": {
     "languageId": "raw"
    }
   },
   "source": [
    "#(주: encoder.py)\n",
    "import base64\n",
    "\n",
    "\n",
    "def str_to_base64(x):\n",
    "    \"\"\"문자열을 base64 표현으로 변환함\n",
    "\n",
    "    b64encode()는 bytes-like object을 인수로 받으므로\n",
    "    문자열은 encode()로 bytes 타입으로 변환해 전달함\n",
    "    \"\"\"\n",
    "    return base64.b64encode(x.encode('utf-8'))\n",
    "\n",
    "\n",
    "# b'cHl0aG9u'\n",
    "\n",
    "# 파이썬으로 encoder.py를 직접 실행 main()이 작동됨, 이전거는 main이 작동되진 않음\n",
    "# book option의 역할?  \n",
    "$ python3 encoder.py book \n",
    "\n",
    "# b'Ym9vaw=='4.b64encode(x.encode('utf-8'))\n",
    "\n",
    "# print(str_to_base64('python'))"
   ]
  },
  {
   "cell_type": "raw",
   "metadata": {},
   "source": [
    "$ python3 encoder.py\n",
    "b'cHl0aG9u'"
   ]
  },
  {
   "cell_type": "markdown",
   "metadata": {},
   "source": [
    "### 인수 얻기"
   ]
  },
  {
   "cell_type": "raw",
   "metadata": {
    "vscode": {
     "languageId": "raw"
    }
   },
   "source": [
    "(주: encoder.py)\n",
    "import base64\n",
    "import sys # window인지 Linux인지 \n",
    "\n",
    "\n",
    "def str_to_base64(x):\n",
    "    \"\"\"문자열을 base64 표현으로 변환함\n",
    "\n",
    "    b64encode()는 bytes-like object을 인수로 받으므로\n",
    "    문자열은 encode()로 bytes 타입으로 변환해 전달함\n",
    "    \"\"\"\n",
    "    return base64.b64encode(x.encode('utf-8'))\n",
    "\n",
    "\n",
    "target = sys.argv[1]\n",
    "print(str_to_base64(target))"
   ]
  },
  {
   "cell_type": "raw",
   "metadata": {},
   "source": [
    "$ python3 encoder.py python\n",
    "b'cHl0aG9u'\n",
    "$ python3 encoder.py book\n",
    "b'Ym9vaw=='"
   ]
  },
  {
   "cell_type": "raw",
   "metadata": {},
   "source": [
    "Notebook 환경에서는 다음 결과가 달라집니다."
   ]
  },
  {
   "cell_type": "raw",
   "metadata": {},
   "source": [
    ">>> import encoder\n",
    "Traceback (most recent call last):\n",
    "  File \"<stdin>\", line 1, in <module>\n",
    "  File \"/Users/.../encoder.py\", line 9, in <module>\n",
    "    target = sys.argv[1]\n",
    "IndexError: list index out of range"
   ]
  },
  {
   "cell_type": "markdown",
   "metadata": {},
   "source": [
    "### 직접 실행할 때만 동작하는 코드"
   ]
  },
  {
   "cell_type": "markdown",
   "metadata": {},
   "source": [
    "### 직접 실행할 때만 동작하는 코드 >> 저 구문은 그냥 외우기 \n",
    "#### if __name__ == '__main__':\n",
    "\n",
    "### 간접 실행하고 싶으면 ?\n",
    "#### import from 사용하기 "
   ]
  },
  {
   "cell_type": "raw",
   "metadata": {
    "vscode": {
     "languageId": "raw"
    }
   },
   "source": [
    "(주: encoder.py)\n",
    "import base64\n",
    "import sys\n",
    "\n",
    "\n",
    "def str_to_base64(x):\n",
    "    \"\"\"문자열을 base64 표현으로 변환함\n",
    "\n",
    "    b64encode()는 bytes-like object을 인수로 받으므로\n",
    "    문자열은 encode()로 bytes 타입으로 변환해 전달함\n",
    "    \"\"\"\n",
    "    return base64.b64encode(x.encode('utf-8'))\n",
    "\n",
    "\n",
    "def main():\n",
    "    target = sys.argv[1]\n",
    "    print(str_to_base64(target))\n",
    "\n",
    "\n",
    "if __name__ == '__main__':\n",
    "    main()"
   ]
  },
  {
   "cell_type": "markdown",
   "metadata": {},
   "source": [
    "%pwd : 현재 노트북의 디렉토리의 정보를 출력\n",
    "\n",
    " %ls : 현재 디렉토리의 목록 출력\n",
    "\n",
    " %mkdir 디렉토리명 : 디렉토리 신규 생성\n",
    "\n",
    " %rmdir 디렉토리명 : 해당 디렉토리 삭제\n",
    "\n",
    " %load 파일명 : 해당 파일 열어 파일 내용을 코드 셀에 출력\n",
    "\n",
    " %%writefile 파일명 : 해당 코드 셀 전체를 파일로 저장\n",
    "\n",
    " %time : 한 줄에 대한 실행 시간을 출력\n",
    "\n",
    " %%time : 코드 셀 전체 에 대한 실행 시간을 출력\n",
    "\n",
    " %autosave : 노트북 자동 저장 시간 설정(Default로 120초로 설정되어 있습니다)"
   ]
  },
  {
   "cell_type": "code",
   "execution_count": 5,
   "metadata": {},
   "outputs": [
    {
     "name": "stdout",
     "output_type": "stream",
     "text": [
      "b'cHl0aG9u'\n"
     ]
    }
   ],
   "source": [
    "# anaconda prompt말고 주피터환경에서 집적 실행시킬 때, !를 활용\n",
    "# \"주피터 magic command (매직명령어)\" 으로 검색\n",
    "# https://digital-play.tistory.com/25 블로그 참고\n",
    "\n",
    "# linux 명령어는 앞에 % 기호를 통해 %cd, %mkdir ...\n",
    "\n",
    "!python3 encoder.py python\n",
    "\n"
   ]
  },
  {
   "cell_type": "code",
   "execution_count": 6,
   "metadata": {},
   "outputs": [
    {
     "data": {
      "text/plain": [
       "b'cHl0aG9u'"
      ]
     },
     "execution_count": 6,
     "metadata": {},
     "output_type": "execute_result"
    }
   ],
   "source": [
    "import encoder\n",
    "encoder.str_to_base64('python')"
   ]
  },
  {
   "cell_type": "markdown",
   "metadata": {},
   "source": [
    "### if \\_\\_name\\_\\_ == '\\_\\_main\\_\\_': 블록의 의미"
   ]
  },
  {
   "cell_type": "markdown",
   "metadata": {},
   "source": [
    "### 변수 \\_\\_name\\_\\_에 저장된 값"
   ]
  },
  {
   "cell_type": "code",
   "execution_count": 23,
   "metadata": {},
   "outputs": [
    {
     "data": {
      "text/plain": [
       "'__main__'"
      ]
     },
     "execution_count": 23,
     "metadata": {},
     "output_type": "execute_result"
    }
   ],
   "source": [
    "# 대화형 모드에서도 정의되어 있으며, 값은 __main__\n",
    "# 즉, __name__ == '__main__' 은 바로 실행시킬 때의 의미\n",
    "__name__ # 실행시키면 __main__이 나옴 \n"
   ]
  },
  {
   "cell_type": "code",
   "execution_count": 26,
   "metadata": {},
   "outputs": [
    {
     "data": {
      "text/plain": [
       "<module 'encoder' from 'c:\\\\Users\\\\hojun\\\\Downloads\\\\workspace01\\\\project01\\\\encoder.py'>"
      ]
     },
     "execution_count": 26,
     "metadata": {},
     "output_type": "execute_result"
    }
   ],
   "source": [
    "# 임포트한 모듈에서의 값은 모듈 이름이 됨\n",
    "import encoder\n",
    "encoder.__name__ # encoder라는 모듈에서 실행했으므로 main이 아닌 encoder 모듈이 출력"
   ]
  },
  {
   "cell_type": "markdown",
   "metadata": {},
   "source": [
    "# 패키지 ── 모듈의 집합\n",
    "# .py 파일들의 집합 == 디렉토리"
   ]
  },
  {
   "cell_type": "markdown",
   "metadata": {},
   "source": [
    "## 패키지 작성"
   ]
  },
  {
   "cell_type": "raw",
   "metadata": {},
   "source": [
    "$ mkdir b64"
   ]
  },
  {
   "cell_type": "raw",
   "metadata": {
    "vscode": {
     "languageId": "raw"
    }
   },
   "source": [
    "# 빈 __init__.py 작성\n",
    "# Windows에서는 type nul > b64/__init__.py (윈도우 상에서 init file 만들 때)\n",
    "$ touch b64/__init__.py (리눅스에서 만들 때)"
   ]
  },
  {
   "cell_type": "code",
   "execution_count": 9,
   "metadata": {},
   "outputs": [
    {
     "data": {
      "text/plain": [
       "module"
      ]
     },
     "execution_count": 9,
     "metadata": {},
     "output_type": "execute_result"
    }
   ],
   "source": [
    "import b64  # 패키지 임포트\n",
    "type(b64)"
   ]
  },
  {
   "cell_type": "code",
   "execution_count": 10,
   "metadata": {},
   "outputs": [
    {
     "data": {
      "text/plain": [
       "['__builtins__',\n",
       " '__cached__',\n",
       " '__doc__',\n",
       " '__file__',\n",
       " '__loader__',\n",
       " '__name__',\n",
       " '__package__',\n",
       " '__path__',\n",
       " '__spec__',\n",
       " 'base64_to_str',\n",
       " 'decoder',\n",
       " 'encoder',\n",
       " 'str_to_base64']"
      ]
     },
     "execution_count": 10,
     "metadata": {},
     "output_type": "execute_result"
    }
   ],
   "source": [
    "# dir(encoder)의 결과에는 없었던 __path__를 확인할 수 있음\n",
    "dir(b64)"
   ]
  },
  {
   "cell_type": "code",
   "execution_count": 11,
   "metadata": {},
   "outputs": [
    {
     "data": {
      "text/plain": [
       "['/Users/yeonsookim/Workspaces/personal/python-src/07-modules/b64']"
      ]
     },
     "execution_count": 11,
     "metadata": {},
     "output_type": "execute_result"
    }
   ],
   "source": [
    "# b64 객체가 쓸 수 있는 func (기본적으로 상속된 특수함수들 __ __)\n",
    "b64.__path__"
   ]
  },
  {
   "cell_type": "raw",
   "metadata": {
    "vscode": {
     "languageId": "raw"
    }
   },
   "source": [
    "$ mv encoder.py b64\n",
    "# window 상에서는 mv 명령어 안됨, 명령어 알고싶으면 help enter로 검색\n",
    "# mv는 move로 대체됨\n",
    "# anaconda prompt랑 linux랑 명령어가 서로 달라서 너무 헷갈린다 >> power shell 활용하기 (둘의 명령어 다 호환됨)"
   ]
  },
  {
   "cell_type": "raw",
   "metadata": {},
   "source": [
    "(注:b64/decoder.py)\n",
    "import base64\n",
    "\n",
    "\n",
    "def base64_to_str(x):\n",
    "    \"\"\"base64 표현을 문자열로 변환함\n",
    "\n",
    "    b64decode()의 반환값은 bytes 타입이므로\n",
    "    decode()로 문자열로 바꾼 뒤 변환함\n",
    "    \"\"\"\n",
    "    return base64.b64decode(x).decode('utf-8')"
   ]
  },
  {
   "cell_type": "markdown",
   "metadata": {},
   "source": [
    "## 패키지 안의 모듈 임포트\n",
    "\n"
   ]
  },
  {
   "cell_type": "code",
   "execution_count": 35,
   "metadata": {},
   "outputs": [],
   "source": [
    "#from b64.decoder import base64_to_str # .py를 import하는 방식보단\n",
    "# from b64.decoder import 함수 로 하는게 더 좋음 >> namespace 관리\n",
    "from b64 import encoder, decoder\n",
    "\n",
    "# from . import encoder"
   ]
  },
  {
   "cell_type": "markdown",
   "metadata": {},
   "source": [
    "인코딩 : 직렬화 > 문자열화(json으로 만들기) by dump\n",
    "\n",
    "디코딩 : 역직렬화 > 파이썬 객체로 이용가능 by load\n",
    "\n",
    "파이썬객체(딕셔너리) -> json 문자열화\n",
    "{\n",
    "    'id' = 1,\n",
    "    'name' = '홍길동'\n",
    "}\n",
    "\n",
    "json 변환 =>\n",
    "\n",
    "{\"id\":\"1\", \"name\": \"홍길동\"} -> 파이썬 객체화(디코딩)\n",
    "\n",
    "문자열일때 쓸 수 있는 함수와, 파이썬 객체일 때 쓸 수 있는 함수가 다르기때문에 변환시킴"
   ]
  },
  {
   "cell_type": "code",
   "execution_count": 37,
   "metadata": {},
   "outputs": [
    {
     "data": {
      "text/plain": [
       "b'cHl0aG9u'"
      ]
     },
     "execution_count": 37,
     "metadata": {},
     "output_type": "execute_result"
    }
   ],
   "source": [
    "# 문자열의 base64 형식 표현\n",
    "encoder.str_to_base64('python')"
   ]
  },
  {
   "cell_type": "code",
   "execution_count": 38,
   "metadata": {},
   "outputs": [
    {
     "data": {
      "text/plain": [
       "'python'"
      ]
     },
     "execution_count": 38,
     "metadata": {},
     "output_type": "execute_result"
    }
   ],
   "source": [
    "# base64 형식 표현의 원래 문자열\n",
    "# 인수는 bytes 타입이므로 앞에 b를 붙임\n",
    "decoder.base64_to_str(b'cHl0aG9u')"
   ]
  },
  {
   "cell_type": "markdown",
   "metadata": {},
   "source": [
    "### \\_\\_init\\_\\_.py ── 패키지 초기화 수행"
   ]
  },
  {
   "cell_type": "code",
   "execution_count": 39,
   "metadata": {},
   "outputs": [
    {
     "name": "stdout",
     "output_type": "stream",
     "text": [
      "init: __main__\n"
     ]
    }
   ],
   "source": [
    "# (주:b64/__init__.py) 부분 참고\n",
    "print(f'init: {__name__}')"
   ]
  },
  {
   "cell_type": "code",
   "execution_count": 42,
   "metadata": {},
   "outputs": [
    {
     "data": {
      "text/plain": [
       "'b64'"
      ]
     },
     "execution_count": 42,
     "metadata": {},
     "output_type": "execute_result"
    }
   ],
   "source": [
    "from b64 import encoder, decoder\n",
    "# init: b64  # b64/__init__.py가 실행됨\n",
    "\n",
    "# b64에 있는 __init__ 파일 실행"
   ]
  },
  {
   "cell_type": "markdown",
   "metadata": {},
   "source": [
    "### \\_\\_init\\_\\_.py의 편리한 사용법"
   ]
  },
  {
   "cell_type": "code",
   "execution_count": 47,
   "metadata": {},
   "outputs": [
    {
     "data": {
      "text/plain": [
       "'ham'"
      ]
     },
     "execution_count": 47,
     "metadata": {},
     "output_type": "execute_result"
    }
   ],
   "source": [
    "import b64\n",
    "# b64.str_to_base64('ham')  # 지금은 에러 >> 왜냐면 여기사이에 encoder.py가 있는데 이거 없이 접근하려해서\n",
    "b64.encoder.str_to_base64('ham') # 이러면 됨\n",
    "\n",
    "#b64.base64_to_str(b'aGFt')  # 지금은 에러\n",
    "b64.decoder.base64_to_str(b'aGFt') # 이러면 됨"
   ]
  },
  {
   "cell_type": "code",
   "execution_count": 50,
   "metadata": {},
   "outputs": [
    {
     "data": {
      "text/plain": [
       "_NamespacePath(['c:\\\\Users\\\\hojun\\\\Downloads\\\\workspace01\\\\project01\\\\b64', 'c:\\\\Users\\\\hojun\\\\Downloads\\\\workspace01\\\\project01\\\\b64'])"
      ]
     },
     "execution_count": 50,
     "metadata": {},
     "output_type": "execute_result"
    }
   ],
   "source": [
    "import b64\n",
    "dir(b64)  # str_to_base64와 base64_to_str은 아직 없음\n",
    "# type(b64)\n",
    "# ['__builtins__', ... '__name__', '__package__', '__path__', '__spec__']\n",
    "b64.__path__"
   ]
  },
  {
   "cell_type": "code",
   "execution_count": 51,
   "metadata": {},
   "outputs": [],
   "source": [
    "# (주:b64/__init__.py)\n",
    "from encoder import str_to_base64\n",
    "from decoder import base64_to_str"
   ]
  },
  {
   "cell_type": "code",
   "execution_count": 52,
   "metadata": {},
   "outputs": [],
   "source": [
    "import b64"
   ]
  },
  {
   "cell_type": "code",
   "execution_count": 54,
   "metadata": {},
   "outputs": [
    {
     "data": {
      "text/plain": [
       "['__doc__',\n",
       " '__file__',\n",
       " '__loader__',\n",
       " '__name__',\n",
       " '__package__',\n",
       " '__path__',\n",
       " '__spec__',\n",
       " 'decoder',\n",
       " 'encoder']"
      ]
     },
     "execution_count": 54,
     "metadata": {},
     "output_type": "execute_result"
    }
   ],
   "source": [
    "# str_to_base64와 base64_to_str를 확인할 수 있음\n",
    "dir(b64) # __init__ 부분 수정해주면 원래는 dir 할때, str_to_base, base_to_str 함수도 떠야하는데 안뜨네 >> 원본참고하기"
   ]
  },
  {
   "cell_type": "code",
   "execution_count": 56,
   "metadata": {},
   "outputs": [
    {
     "ename": "AttributeError",
     "evalue": "module 'b64' has no attribute 'str_to_base64'",
     "output_type": "error",
     "traceback": [
      "\u001b[1;31m---------------------------------------------------------------------------\u001b[0m",
      "\u001b[1;31mAttributeError\u001b[0m                            Traceback (most recent call last)",
      "Input \u001b[1;32mIn [56]\u001b[0m, in \u001b[0;36m<cell line: 3>\u001b[1;34m()\u001b[0m\n\u001b[0;32m      1\u001b[0m \u001b[38;5;66;03m# b64의 속성으로 참조\u001b[39;00m\n\u001b[0;32m      2\u001b[0m \u001b[38;5;66;03m# 현재 b64에 str_to_base64란게 없으므로 안됨 (할거면 encoder.str_to_base64 로 접근)\u001b[39;00m\n\u001b[1;32m----> 3\u001b[0m \u001b[43mb64\u001b[49m\u001b[38;5;241;43m.\u001b[39;49m\u001b[43mstr_to_base64\u001b[49m(\u001b[38;5;124m'\u001b[39m\u001b[38;5;124mpython\u001b[39m\u001b[38;5;124m'\u001b[39m)\n",
      "\u001b[1;31mAttributeError\u001b[0m: module 'b64' has no attribute 'str_to_base64'"
     ]
    }
   ],
   "source": [
    "# b64의 속성으로 참조\n",
    "# 현재 b64에 str_to_base64란게 없으므로 안됨 (할거면 encoder.str_to_base64 로 접근)\n",
    "b64.str_to_base64('python')"
   ]
  },
  {
   "cell_type": "code",
   "execution_count": 18,
   "metadata": {},
   "outputs": [
    {
     "data": {
      "text/plain": [
       "'python'"
      ]
     },
     "execution_count": 18,
     "metadata": {},
     "output_type": "execute_result"
    }
   ],
   "source": [
    "b64.base64_to_str(b'cHl0aG9u')"
   ]
  },
  {
   "cell_type": "markdown",
   "metadata": {},
   "source": [
    "## import 문 비교"
   ]
  },
  {
   "cell_type": "markdown",
   "metadata": {},
   "source": [
    "### import 문만 이용한 임포트"
   ]
  },
  {
   "cell_type": "code",
   "execution_count": 57,
   "metadata": {},
   "outputs": [],
   "source": [
    "# 패키지(모듈) 임포트\n",
    "import b64"
   ]
  },
  {
   "cell_type": "code",
   "execution_count": 58,
   "metadata": {},
   "outputs": [
    {
     "ename": "AttributeError",
     "evalue": "module 'b64' has no attribute 'str_to_base64'",
     "output_type": "error",
     "traceback": [
      "\u001b[1;31m---------------------------------------------------------------------------\u001b[0m",
      "\u001b[1;31mAttributeError\u001b[0m                            Traceback (most recent call last)",
      "Input \u001b[1;32mIn [58]\u001b[0m, in \u001b[0;36m<cell line: 2>\u001b[1;34m()\u001b[0m\n\u001b[0;32m      1\u001b[0m \u001b[38;5;66;03m# 최상위 레벨 객체 참조\u001b[39;00m\n\u001b[1;32m----> 2\u001b[0m \u001b[43mb64\u001b[49m\u001b[38;5;241;43m.\u001b[39;49m\u001b[43mstr_to_base64\u001b[49m(\u001b[38;5;124m'\u001b[39m\u001b[38;5;124mpython\u001b[39m\u001b[38;5;124m'\u001b[39m)\n",
      "\u001b[1;31mAttributeError\u001b[0m: module 'b64' has no attribute 'str_to_base64'"
     ]
    }
   ],
   "source": [
    "# 최상위 레벨 객체 참조\n",
    "b64.str_to_base64('python')"
   ]
  },
  {
   "cell_type": "markdown",
   "metadata": {},
   "source": [
    "### from 절을 사용한 특정 속성 임포트"
   ]
  },
  {
   "cell_type": "code",
   "execution_count": 21,
   "metadata": {},
   "outputs": [
    {
     "data": {
      "text/plain": [
       "b'cHl0aG9u'"
      ]
     },
     "execution_count": 21,
     "metadata": {},
     "output_type": "execute_result"
    }
   ],
   "source": [
    "# 모듈 속성을 직접 임포트\n",
    "from b64 import str_to_base64\n",
    "str_to_base64('python')"
   ]
  },
  {
   "cell_type": "code",
   "execution_count": 61,
   "metadata": {},
   "outputs": [],
   "source": [
    "# 여러 속성 동시 임포트\n",
    "from b64.encoder import str_to_base64\n",
    "from b64.decoder import base64_to_str"
   ]
  },
  {
   "cell_type": "code",
   "execution_count": 63,
   "metadata": {},
   "outputs": [
    {
     "data": {
      "text/plain": [
       "b'cHl0aG9u'"
      ]
     },
     "execution_count": 63,
     "metadata": {},
     "output_type": "execute_result"
    }
   ],
   "source": [
    "# 패키지 내부 모듈 임포트\n",
    "from b64 import encoder\n",
    "encoder.str_to_base64('python')"
   ]
  },
  {
   "cell_type": "code",
   "execution_count": 64,
   "metadata": {},
   "outputs": [
    {
     "data": {
      "text/plain": [
       "b'cHl0aG9u'"
      ]
     },
     "execution_count": 64,
     "metadata": {},
     "output_type": "execute_result"
    }
   ],
   "source": [
    "# 속성을 재귀적으로 지정해 임포트\n",
    "from encoder import str_to_base64\n",
    "str_to_base64('python')"
   ]
  },
  {
   "cell_type": "markdown",
   "metadata": {},
   "source": [
    "### .을 이용한 상태 임포트"
   ]
  },
  {
   "cell_type": "code",
   "execution_count": 66,
   "metadata": {},
   "outputs": [
    {
     "name": "stderr",
     "output_type": "stream",
     "text": [
      "'cat'��(��) ���� �Ǵ� �ܺ� ����, ������ �� �ִ� ���α׷�, �Ǵ�\n",
      "��ġ ������ �ƴմϴ�.\n"
     ]
    }
   ],
   "source": [
    "!cat b64/__init__.py"
   ]
  },
  {
   "cell_type": "markdown",
   "metadata": {},
   "source": [
    "### 와일드카드를 이용해 여러 속성의 일괄 임포트 와일드카드 : (*, ?) 기호"
   ]
  },
  {
   "cell_type": "raw",
   "metadata": {},
   "source": [
    ">>> dir()  # 임포트 전 상태\n",
    "['__annotations__', ... '__package__', '__spec__']"
   ]
  },
  {
   "cell_type": "code",
   "execution_count": 3,
   "metadata": {},
   "outputs": [
    {
     "name": "stdout",
     "output_type": "stream",
     "text": [
      "__\n",
      "___\n",
      "__builtin__\n",
      "__builtins__\n",
      "__doc__\n",
      "__loader__\n",
      "__name__\n",
      "__package__\n",
      "__spec__\n",
      "__vsc_ipynb_file__\n"
     ]
    }
   ],
   "source": [
    "import b64\n",
    "\n",
    "dir()\n",
    "\n",
    "from b64.decoder import *\n",
    "\n",
    "dir() # 기존 dir()에서 base64_to_str 부분 추가\n",
    "\n",
    "# 특수함수라면 출력하기\n",
    "for item in list(dir()):\n",
    "    if \"__\" in item:\n",
    "        print(item) # base64_to_str 은 안나왔다? >> 안나와도 굳이 상관은 없나봄 ?"
   ]
  },
  {
   "cell_type": "raw",
   "metadata": {
    "vscode": {
     "languageId": "raw"
    }
   },
   "source": [
    ">>> from b64.decoder import * # decoder에 있는 모든 함수를 import\n",
    ">>> dir()  # base64_to_str 이외의 base64도 포함됨\n",
    "['__annotations__', ... '__package__', '__spec__', 'base64', 'base64_to_str']"
   ]
  },
  {
   "cell_type": "code",
   "execution_count": 1,
   "metadata": {},
   "outputs": [
    {
     "data": {
      "text/plain": [
       "['In',\n",
       " 'Out',\n",
       " '_',\n",
       " '__',\n",
       " '___',\n",
       " '__builtin__',\n",
       " '__builtins__',\n",
       " '__doc__',\n",
       " '__loader__',\n",
       " '__name__',\n",
       " '__package__',\n",
       " '__spec__',\n",
       " '__vsc_ipynb_file__',\n",
       " '_dh',\n",
       " '_i',\n",
       " '_i1',\n",
       " '_ih',\n",
       " '_ii',\n",
       " '_iii',\n",
       " '_oh',\n",
       " 'base64_to_str',\n",
       " 'exit',\n",
       " 'get_ipython',\n",
       " 'quit']"
      ]
     },
     "execution_count": 1,
     "metadata": {},
     "output_type": "execute_result"
    }
   ],
   "source": [
    "# __all__로 지정한 이름을 일괄 임포트\n",
    "from b64.decoder import *\n",
    "dir()\n",
    "# ['__annotations__', ... '__package__', '__spec__', 'base64_to_str'] # 'base64_to_str' 부분도 import 됨"
   ]
  },
  {
   "cell_type": "raw",
   "metadata": {},
   "source": [
    "(주:b64/encoder.py)\n",
    "__all__ = ['str_to_base64']"
   ]
  },
  {
   "cell_type": "code",
   "execution_count": 27,
   "metadata": {},
   "outputs": [
    {
     "name": "stdout",
     "output_type": "stream",
     "text": [
      "from .encoder import *\n",
      "from .decoder import *\n"
     ]
    }
   ],
   "source": [
    "!cat b64/__init__.py"
   ]
  },
  {
   "cell_type": "code",
   "execution_count": 28,
   "metadata": {},
   "outputs": [
    {
     "data": {
      "text/plain": [
       "['__builtins__',\n",
       " '__cached__',\n",
       " '__doc__',\n",
       " '__file__',\n",
       " '__loader__',\n",
       " '__name__',\n",
       " '__package__',\n",
       " '__path__',\n",
       " '__spec__',\n",
       " 'base64_to_str',\n",
       " 'decoder',\n",
       " 'encoder',\n",
       " 'str_to_base64']"
      ]
     },
     "execution_count": 28,
     "metadata": {},
     "output_type": "execute_result"
    }
   ],
   "source": [
    "import b64\n",
    "dir(b64)"
   ]
  },
  {
   "cell_type": "markdown",
   "metadata": {},
   "source": [
    "## as 절을 사용한 별명 부여"
   ]
  },
  {
   "cell_type": "code",
   "execution_count": 2,
   "metadata": {},
   "outputs": [
    {
     "data": {
      "text/plain": [
       "<function io.open(file, mode='r', buffering=-1, encoding=None, errors=None, newline=None, closefd=True, opener=None)>"
      ]
     },
     "execution_count": 2,
     "metadata": {},
     "output_type": "execute_result"
    }
   ],
   "source": [
    "open  # 내장 함수 open\n",
    "\n",
    "# open을 다른 이름(file)으로 부르겠다.\n",
    "# with open() as file:"
   ]
  },
  {
   "cell_type": "code",
   "execution_count": 1,
   "metadata": {},
   "outputs": [
    {
     "name": "stdout",
     "output_type": "stream",
     "text": [
      "<class 'gzip.GzipFile'>\n",
      "<class '_io.TextIOWrapper'>\n"
     ]
    }
   ],
   "source": [
    "# gzip : 압축된 것들을 다루는 모듈 (.py)\n",
    "#from gzip import open  # gzip의 open을 임포트\n",
    "\n",
    "#open  # open()은 gzip.open()으로 지정되어 있음, 일반 open과 다름\n",
    "\n",
    "import gzip\n",
    "\n",
    "print(type(gzip.open(r\"C:\\Users\\hojun\\Downloads\\workspace01\\project01\\b64\\decoder.py\")))\n",
    "print(type(open(r\"C:\\Users\\hojun\\Downloads\\workspace01\\project01\\b64\\decoder.py\")))"
   ]
  },
  {
   "cell_type": "raw",
   "metadata": {},
   "source": [
    "open을 빌트인 함수로 되돌리기 위해 대화형 모드를 다시 시작해 주십시오.\n",
    "Notebook에서는 메뉴의 Kernal > Restart Kernel도 사용할 수 있습니다."
   ]
  },
  {
   "cell_type": "raw",
   "metadata": {},
   "source": [
    "open  # 내장 함수 open"
   ]
  },
  {
   "cell_type": "code",
   "execution_count": 2,
   "metadata": {},
   "outputs": [
    {
     "data": {
      "text/plain": [
       "<function gzip.open(filename, mode='rb', compresslevel=9, encoding=None, errors=None, newline=None)>"
      ]
     },
     "execution_count": 2,
     "metadata": {},
     "output_type": "execute_result"
    }
   ],
   "source": [
    "# gzip의 open을 gzip_open으로서 임포트 >> open 함수가 여러개라 이름을 gzip의 open함수를 명시적으로 해주기\n",
    "from gzip import open as gzip_open\n",
    "gzip_open  # gzip의open"
   ]
  },
  {
   "cell_type": "raw",
   "metadata": {},
   "source": [
    "open  # 내장 함수 open을 계속 이용할 수 있음"
   ]
  },
  {
   "cell_type": "markdown",
   "metadata": {},
   "source": [
    "# 임포트의 구조"
   ]
  },
  {
   "cell_type": "markdown",
   "metadata": {},
   "source": [
    "## 모듈 검색 흐름"
   ]
  },
  {
   "cell_type": "markdown",
   "metadata": {},
   "source": [
    "## sys.path ── 모듈 검색 경로"
   ]
  },
  {
   "cell_type": "raw",
   "metadata": {
    "vscode": {
     "languageId": "raw"
    }
   },
   "source": [
    "# -it : 만들어진 컨테이너 안의 명령어를 실행\n",
    "# 아래 명령어를 하면 python 실행됨\n",
    "$ docker run -it --rm python:3.8.1 python3\n",
    ">>> import sys\n",
    ">>> sys.path  # 맨 앞은 빈 문자\n",
    "['', '/usr/local/lib/python38.zip', '/usr/local/lib/python3.8', '/usr/local/lib/python3.8/lib-dynload', '/usr/local/lib/python3.8/site-packages']"
   ]
  },
  {
   "cell_type": "code",
   "execution_count": 4,
   "metadata": {},
   "outputs": [
    {
     "data": {
      "text/plain": [
       "'c:\\\\Users\\\\hojun\\\\AppData\\\\Local\\\\Programs\\\\Python\\\\Python310\\\\python310.zip'"
      ]
     },
     "execution_count": 4,
     "metadata": {},
     "output_type": "execute_result"
    }
   ],
   "source": [
    "import sys\n",
    "\n",
    "sys.path # 여러개로 이루어진 문자열, 문자열이므로 index로 접근가능\n",
    "sys.path[1] # index 접근"
   ]
  },
  {
   "cell_type": "code",
   "execution_count": 5,
   "metadata": {},
   "outputs": [
    {
     "name": "stderr",
     "output_type": "stream",
     "text": [
      "'cat'��(��) ���� �Ǵ� �ܺ� ����, ������ �� �ִ� ���α׷�, �Ǵ�\n",
      "��ġ ������ �ƴմϴ�.\n"
     ]
    }
   ],
   "source": [
    "!cat syspath.py"
   ]
  },
  {
   "cell_type": "code",
   "execution_count": 33,
   "metadata": {},
   "outputs": [
    {
     "name": "stdout",
     "output_type": "stream",
     "text": [
      "['/usr/src/app', '/usr/local/lib/python38.zip', '/usr/local/lib/python3.8', '/usr/local/lib/python3.8/lib-dynload', '/usr/local/lib/python3.8/site-packages']\n"
     ]
    }
   ],
   "source": [
    "# 도커로 파이썬 실행하기\n",
    "\n",
    "# 현재 경로가 pwd 변수처리($)로 들어감 : $하면 변수처리하겠다는 뜻\n",
    "# : 기준으로 >>  (host의 공간) : (client의 공간 (리눅스 경로)) >> 클라이언트에서 작업한걸 호스트 공간으로 업뎃하겠다. 깃푸쉬 느낌?\n",
    "# 리눅스상에서 ~은 home이란 뜻 ~/usr/src \n",
    "!docker run -it --rm -v $(pwd):/usr/src/app -w /usr/src/app python:3.8.1 python3 syspath.py"
   ]
  },
  {
   "cell_type": "markdown",
   "metadata": {},
   "source": [
    "### 검색 경로 우선 순위"
   ]
  },
  {
   "cell_type": "raw",
   "metadata": {
    "vscode": {
     "languageId": "raw"
    }
   },
   "source": [
    "이름 겹칠 때, 우선순위 정하기 : __mro__ \n",
    "\n",
    "(주:sys.py)\n",
    "print('imported my sys.py')"
   ]
  },
  {
   "cell_type": "raw",
   "metadata": {},
   "source": [
    "(주:base64.py)\n",
    "print('imported my base64.py')"
   ]
  },
  {
   "cell_type": "raw",
   "metadata": {},
   "source": [
    "$ docker run -it --rm -v $(pwd):/usr/src/app -w /usr/src/app python:3.8.1 python3\n",
    "\n",
    "# 빌트인 sys 모듈이 임포트 됨\n",
    ">>> import sys\n",
    "\n",
    "# 사용자 정의 base64 모듈이 임포트 됨\n",
    ">>> import base64\n",
    "imported my base64.py"
   ]
  },
  {
   "cell_type": "markdown",
   "metadata": {},
   "source": [
    "## PYTHONPATH ── sys.path에 검색 경로를 추가\n",
    "\n",
    "암묵적 : 명시되지 않더라도 찾아가는 순서가 정해져있음\n",
    "index.html 이 없으면? >> index.htm 찾고 이런식으로\n",
    "\n",
    "sys.path 는 list였으니까 (아래있는 셀의 결과 참고)\n",
    "list.append() 식으로 찾고자 하는 것을 추가하기"
   ]
  },
  {
   "cell_type": "code",
   "execution_count": 34,
   "metadata": {},
   "outputs": [
    {
     "name": "stdout",
     "output_type": "stream",
     "text": [
      "['/usr/src/app', '/usr/bin', '/bin', '/usr/local/lib/python38.zip', '/usr/local/lib/python3.8', '/usr/local/lib/python3.8/lib-dynload', '/usr/local/lib/python3.8/site-packages']\n"
     ]
    }
   ],
   "source": [
    "# 옵션으로 현재 디렉터리와 PYTHONPATH를 지정해서 실행\n",
    "# 리스트 순서가 찾아들어가는 순서\n",
    "!docker run -it --rm -v $(pwd):/usr/src/app -w /usr/src/app -e PYTHONPATH=/usr/bin:/bin python:3.8.1 python3 syspath.py"
   ]
  },
  {
   "cell_type": "markdown",
   "metadata": {},
   "source": [
    "# 이름 공간과 변수의 스코프\n",
    "\n",
    "namespace : 함수명 변수명 중복될 때 이런걸 구분하기 위함"
   ]
  },
  {
   "cell_type": "markdown",
   "metadata": {},
   "source": [
    "## 이름 공간 ── 이름과 객체의 매핑"
   ]
  },
  {
   "cell_type": "code",
   "execution_count": 35,
   "metadata": {},
   "outputs": [
    {
     "data": {
      "text/plain": [
       "<function posix.open(path, flags, mode=511, *, dir_fd=None)>"
      ]
     },
     "execution_count": 35,
     "metadata": {},
     "output_type": "execute_result"
    }
   ],
   "source": [
    "import os\n",
    "os.open"
   ]
  },
  {
   "cell_type": "code",
   "execution_count": 36,
   "metadata": {},
   "outputs": [
    {
     "data": {
      "text/plain": [
       "<function gzip.open(filename, mode='rb', compresslevel=9, encoding=None, errors=None, newline=None)>"
      ]
     },
     "execution_count": 36,
     "metadata": {},
     "output_type": "execute_result"
    }
   ],
   "source": [
    "# 같은 open이라도 gzip.open과 os.open은 다른 객체임\n",
    "import gzip\n",
    "gzip.open"
   ]
  },
  {
   "cell_type": "markdown",
   "metadata": {},
   "source": [
    "### 이름 공간 활용"
   ]
  },
  {
   "cell_type": "markdown",
   "metadata": {},
   "source": [
    "## 스코프 ── 직접 엑세스 가능한 영역"
   ]
  },
  {
   "cell_type": "markdown",
   "metadata": {},
   "source": [
    "### 로컬 스코프 ── 함수 안에 국한된 스코프"
   ]
  },
  {
   "cell_type": "code",
   "execution_count": 8,
   "metadata": {},
   "outputs": [],
   "source": [
    "def f():\n",
    "    value = 'f_function'\n",
    "    print(value)"
   ]
  },
  {
   "cell_type": "code",
   "execution_count": 9,
   "metadata": {},
   "outputs": [],
   "source": [
    "def g():\n",
    "    value = 'g_function'\n",
    "    print(value)"
   ]
  },
  {
   "cell_type": "code",
   "execution_count": 10,
   "metadata": {},
   "outputs": [
    {
     "name": "stdout",
     "output_type": "stream",
     "text": [
      "f_function\n"
     ]
    }
   ],
   "source": [
    "# 함수 안에서는 value에 접근할 수 있음\n",
    "f()"
   ]
  },
  {
   "cell_type": "code",
   "execution_count": 40,
   "metadata": {},
   "outputs": [
    {
     "name": "stdout",
     "output_type": "stream",
     "text": [
      "g_function\n"
     ]
    }
   ],
   "source": [
    "# 함수 f에서 정의된 value와 \n",
    "# 함수 g에서 정의된 value는 다른 객체\n",
    "g()"
   ]
  },
  {
   "cell_type": "code",
   "execution_count": 41,
   "metadata": {
    "tags": [
     "raises-exception"
    ]
   },
   "outputs": [
    {
     "ename": "NameError",
     "evalue": "name 'value' is not defined",
     "output_type": "error",
     "traceback": [
      "\u001b[0;31m---------------------------------------------------------------------------\u001b[0m",
      "\u001b[0;31mNameError\u001b[0m                                 Traceback (most recent call last)",
      "\u001b[0;32m<ipython-input-41-592c23540dba>\u001b[0m in \u001b[0;36m<module>\u001b[0;34m\u001b[0m\n\u001b[1;32m      1\u001b[0m \u001b[0;31m# 함수 밖에서 value에는 접근할 수 없음\u001b[0m\u001b[0;34m\u001b[0m\u001b[0;34m\u001b[0m\u001b[0;34m\u001b[0m\u001b[0m\n\u001b[0;32m----> 2\u001b[0;31m \u001b[0mprint\u001b[0m\u001b[0;34m(\u001b[0m\u001b[0mvalue\u001b[0m\u001b[0;34m)\u001b[0m\u001b[0;34m\u001b[0m\u001b[0;34m\u001b[0m\u001b[0m\n\u001b[0m",
      "\u001b[0;31mNameError\u001b[0m: name 'value' is not defined"
     ]
    }
   ],
   "source": [
    "# 함수 밖에서 value에는 접근할 수 없음\n",
    "print(value)"
   ]
  },
  {
   "cell_type": "code",
   "execution_count": 12,
   "metadata": {},
   "outputs": [
    {
     "data": {
      "text/plain": [
       "[0, 2, 4, 6, 8]"
      ]
     },
     "execution_count": 12,
     "metadata": {},
     "output_type": "execute_result"
    }
   ],
   "source": [
    "# 변수 value는 리스트 컴프리헨션으로 만들어진 스코프를 가지는 로컬 변수\n",
    "[value for value in range(1)] # 이름값이 같아야\n",
    "\n",
    "[x for x in range(0,10)] # x : [0 ~ 9]\n",
    "[x for x in range(0,10) if x % 2 == 0] # for문이 먼저 실행되고 for문의 결과가 바깥으로 append 된다. 조건문은 옵션\n",
    "# x : [짝수만]"
   ]
  },
  {
   "cell_type": "code",
   "execution_count": 43,
   "metadata": {
    "tags": [
     "raises-exception"
    ]
   },
   "outputs": [
    {
     "ename": "NameError",
     "evalue": "name 'value' is not defined",
     "output_type": "error",
     "traceback": [
      "\u001b[0;31m---------------------------------------------------------------------------\u001b[0m",
      "\u001b[0;31mNameError\u001b[0m                                 Traceback (most recent call last)",
      "\u001b[0;32m<ipython-input-43-8ff224693041>\u001b[0m in \u001b[0;36m<module>\u001b[0;34m\u001b[0m\n\u001b[1;32m      1\u001b[0m \u001b[0;31m# 리스트 컴프리헨션 바깥에서는 value를 참조할 수 없음\u001b[0m\u001b[0;34m\u001b[0m\u001b[0;34m\u001b[0m\u001b[0;34m\u001b[0m\u001b[0m\n\u001b[0;32m----> 2\u001b[0;31m \u001b[0mvalue\u001b[0m\u001b[0;34m\u001b[0m\u001b[0;34m\u001b[0m\u001b[0m\n\u001b[0m",
      "\u001b[0;31mNameError\u001b[0m: name 'value' is not defined"
     ]
    }
   ],
   "source": [
    "# 리스트 컴프리헨션 바깥에서는 value를 참조할 수 없음\n",
    "value"
   ]
  },
  {
   "cell_type": "code",
   "execution_count": 44,
   "metadata": {},
   "outputs": [],
   "source": [
    "def f(x):\n",
    "    # 현재 로컬 스코프 내용을 표시\n",
    "    print(locals())\n",
    "    value = 'book'\n",
    "    # 변수 value 정의 후 로컬 스코프 내용 표시\n",
    "    print(locals())"
   ]
  },
  {
   "cell_type": "code",
   "execution_count": 45,
   "metadata": {},
   "outputs": [
    {
     "name": "stdout",
     "output_type": "stream",
     "text": [
      "{'x': 'python'}\n",
      "{'x': 'python', 'value': 'book'}\n"
     ]
    }
   ],
   "source": [
    "f('python')"
   ]
  },
  {
   "cell_type": "code",
   "execution_count": 15,
   "metadata": {},
   "outputs": [
    {
     "data": {
      "text/plain": [
       "{'__name__': '__main__',\n",
       " '__doc__': 'Automatically created module for IPython interactive environment',\n",
       " '__package__': None,\n",
       " '__loader__': None,\n",
       " '__spec__': None,\n",
       " '__builtin__': <module 'builtins' (built-in)>,\n",
       " '__builtins__': <module 'builtins' (built-in)>,\n",
       " '_ih': ['',\n",
       "  '# gzip : 압축된 것들을 다루는 모듈 (.py)\\n#from gzip import open  # gzip의 open을 임포트\\n\\n#open  # open()은 gzip.open()으로 지정되어 있음, 일반 open과 다름\\n\\nimport gzip\\n\\nprint(type(gzip.open(r\"C:\\\\Users\\\\hojun\\\\Downloads\\\\workspace01\\\\project01\\\\b64\\\\decoder.py\")))\\nprint(type(open(r\"C:\\\\Users\\\\hojun\\\\Downloads\\\\workspace01\\\\project01\\\\b64\\\\decoder.py\")))',\n",
       "  '# gzip의 open을 gzip_open으로서 임포트 >> open 함수가 여러개라 이름을 gzip의 open함수를 명시적으로 해주기\\nfrom gzip import open as gzip_open\\ngzip_open  # gzip의open',\n",
       "  'import sys\\n\\nsys.path',\n",
       "  'import sys\\n\\nsys.path\\nsys.path[1]',\n",
       "  \"get_ipython().system('cat syspath.py')\",\n",
       "  '# 함수 안에서는 value에 접근할 수 있음\\n#f()\\n\\nfor i in range(0,3):\\n    for i in range(0,3):\\n        print(i)',\n",
       "  '# 함수 안에서는 value에 접근할 수 있음\\nf()',\n",
       "  \"def f():\\n    value = 'f_function'\\n    print(value)\",\n",
       "  \"def g():\\n    value = 'g_function'\\n    print(value)\",\n",
       "  '# 함수 안에서는 value에 접근할 수 있음\\nf()',\n",
       "  '# 변수 value는 리스트 컴프리헨션으로 만들어진 스코프를 가지는 로컬 변수\\n[value for value in range(1)] # 이름값이 같아야\\n\\n[x for x in range(0,10)]',\n",
       "  '# 변수 value는 리스트 컴프리헨션으로 만들어진 스코프를 가지는 로컬 변수\\n[value for value in range(1)] # 이름값이 같아야\\n\\n[x for x in range(0,10) if x % 2 == 0] # for문이 먼저 실행되고 for문의 결과가 바깥으로 append 된다. 조건문은 옵션',\n",
       "  'locals()',\n",
       "  '# locals()\\nglobals()',\n",
       "  '# locals()\\n# global 전역변수화 시켜주는 연산자\\nglobals()'],\n",
       " '_oh': {2: <function gzip.open(filename, mode='rb', compresslevel=9, encoding=None, errors=None, newline=None)>,\n",
       "  3: ['c:\\\\Users\\\\hojun\\\\Downloads\\\\workspace01\\\\project01',\n",
       "   'c:\\\\Users\\\\hojun\\\\AppData\\\\Local\\\\Programs\\\\Python\\\\Python310\\\\python310.zip',\n",
       "   'c:\\\\Users\\\\hojun\\\\AppData\\\\Local\\\\Programs\\\\Python\\\\Python310\\\\DLLs',\n",
       "   'c:\\\\Users\\\\hojun\\\\AppData\\\\Local\\\\Programs\\\\Python\\\\Python310\\\\lib',\n",
       "   'c:\\\\Users\\\\hojun\\\\AppData\\\\Local\\\\Programs\\\\Python\\\\Python310',\n",
       "   '',\n",
       "   'c:\\\\Users\\\\hojun\\\\AppData\\\\Local\\\\Programs\\\\Python\\\\Python310\\\\lib\\\\site-packages',\n",
       "   'c:\\\\Users\\\\hojun\\\\AppData\\\\Local\\\\Programs\\\\Python\\\\Python310\\\\lib\\\\site-packages\\\\win32',\n",
       "   'c:\\\\Users\\\\hojun\\\\AppData\\\\Local\\\\Programs\\\\Python\\\\Python310\\\\lib\\\\site-packages\\\\win32\\\\lib',\n",
       "   'c:\\\\Users\\\\hojun\\\\AppData\\\\Local\\\\Programs\\\\Python\\\\Python310\\\\lib\\\\site-packages\\\\Pythonwin'],\n",
       "  4: 'c:\\\\Users\\\\hojun\\\\AppData\\\\Local\\\\Programs\\\\Python\\\\Python310\\\\python310.zip',\n",
       "  11: [0, 1, 2, 3, 4, 5, 6, 7, 8, 9],\n",
       "  12: [0, 2, 4, 6, 8],\n",
       "  13: {...},\n",
       "  14: {...}},\n",
       " '_dh': [WindowsPath('c:/Users/hojun/Downloads/workspace01/project01')],\n",
       " 'In': ['',\n",
       "  '# gzip : 압축된 것들을 다루는 모듈 (.py)\\n#from gzip import open  # gzip의 open을 임포트\\n\\n#open  # open()은 gzip.open()으로 지정되어 있음, 일반 open과 다름\\n\\nimport gzip\\n\\nprint(type(gzip.open(r\"C:\\\\Users\\\\hojun\\\\Downloads\\\\workspace01\\\\project01\\\\b64\\\\decoder.py\")))\\nprint(type(open(r\"C:\\\\Users\\\\hojun\\\\Downloads\\\\workspace01\\\\project01\\\\b64\\\\decoder.py\")))',\n",
       "  '# gzip의 open을 gzip_open으로서 임포트 >> open 함수가 여러개라 이름을 gzip의 open함수를 명시적으로 해주기\\nfrom gzip import open as gzip_open\\ngzip_open  # gzip의open',\n",
       "  'import sys\\n\\nsys.path',\n",
       "  'import sys\\n\\nsys.path\\nsys.path[1]',\n",
       "  \"get_ipython().system('cat syspath.py')\",\n",
       "  '# 함수 안에서는 value에 접근할 수 있음\\n#f()\\n\\nfor i in range(0,3):\\n    for i in range(0,3):\\n        print(i)',\n",
       "  '# 함수 안에서는 value에 접근할 수 있음\\nf()',\n",
       "  \"def f():\\n    value = 'f_function'\\n    print(value)\",\n",
       "  \"def g():\\n    value = 'g_function'\\n    print(value)\",\n",
       "  '# 함수 안에서는 value에 접근할 수 있음\\nf()',\n",
       "  '# 변수 value는 리스트 컴프리헨션으로 만들어진 스코프를 가지는 로컬 변수\\n[value for value in range(1)] # 이름값이 같아야\\n\\n[x for x in range(0,10)]',\n",
       "  '# 변수 value는 리스트 컴프리헨션으로 만들어진 스코프를 가지는 로컬 변수\\n[value for value in range(1)] # 이름값이 같아야\\n\\n[x for x in range(0,10) if x % 2 == 0] # for문이 먼저 실행되고 for문의 결과가 바깥으로 append 된다. 조건문은 옵션',\n",
       "  'locals()',\n",
       "  '# locals()\\nglobals()',\n",
       "  '# locals()\\n# global 전역변수화 시켜주는 연산자\\nglobals()'],\n",
       " 'Out': {2: <function gzip.open(filename, mode='rb', compresslevel=9, encoding=None, errors=None, newline=None)>,\n",
       "  3: ['c:\\\\Users\\\\hojun\\\\Downloads\\\\workspace01\\\\project01',\n",
       "   'c:\\\\Users\\\\hojun\\\\AppData\\\\Local\\\\Programs\\\\Python\\\\Python310\\\\python310.zip',\n",
       "   'c:\\\\Users\\\\hojun\\\\AppData\\\\Local\\\\Programs\\\\Python\\\\Python310\\\\DLLs',\n",
       "   'c:\\\\Users\\\\hojun\\\\AppData\\\\Local\\\\Programs\\\\Python\\\\Python310\\\\lib',\n",
       "   'c:\\\\Users\\\\hojun\\\\AppData\\\\Local\\\\Programs\\\\Python\\\\Python310',\n",
       "   '',\n",
       "   'c:\\\\Users\\\\hojun\\\\AppData\\\\Local\\\\Programs\\\\Python\\\\Python310\\\\lib\\\\site-packages',\n",
       "   'c:\\\\Users\\\\hojun\\\\AppData\\\\Local\\\\Programs\\\\Python\\\\Python310\\\\lib\\\\site-packages\\\\win32',\n",
       "   'c:\\\\Users\\\\hojun\\\\AppData\\\\Local\\\\Programs\\\\Python\\\\Python310\\\\lib\\\\site-packages\\\\win32\\\\lib',\n",
       "   'c:\\\\Users\\\\hojun\\\\AppData\\\\Local\\\\Programs\\\\Python\\\\Python310\\\\lib\\\\site-packages\\\\Pythonwin'],\n",
       "  4: 'c:\\\\Users\\\\hojun\\\\AppData\\\\Local\\\\Programs\\\\Python\\\\Python310\\\\python310.zip',\n",
       "  11: [0, 1, 2, 3, 4, 5, 6, 7, 8, 9],\n",
       "  12: [0, 2, 4, 6, 8],\n",
       "  13: {...},\n",
       "  14: {...}},\n",
       " 'get_ipython': <bound method InteractiveShell.get_ipython of <ipykernel.zmqshell.ZMQInteractiveShell object at 0x0000024C09ABEC20>>,\n",
       " 'exit': <IPython.core.autocall.ZMQExitAutocall at 0x24c09a6beb0>,\n",
       " 'quit': <IPython.core.autocall.ZMQExitAutocall at 0x24c09a6beb0>,\n",
       " '_': {...},\n",
       " '__': {...},\n",
       " '___': [0, 2, 4, 6, 8],\n",
       " '__vsc_ipynb_file__': 'c:\\\\Users\\\\hojun\\\\Downloads\\\\workspace01\\\\project01\\\\모듈추가자료.ipynb',\n",
       " '_i': '# locals()\\nglobals()',\n",
       " '_ii': 'locals()',\n",
       " '_iii': '# 변수 value는 리스트 컴프리헨션으로 만들어진 스코프를 가지는 로컬 변수\\n[value for value in range(1)] # 이름값이 같아야\\n\\n[x for x in range(0,10) if x % 2 == 0] # for문이 먼저 실행되고 for문의 결과가 바깥으로 append 된다. 조건문은 옵션',\n",
       " '_i1': '# gzip : 압축된 것들을 다루는 모듈 (.py)\\n#from gzip import open  # gzip의 open을 임포트\\n\\n#open  # open()은 gzip.open()으로 지정되어 있음, 일반 open과 다름\\n\\nimport gzip\\n\\nprint(type(gzip.open(r\"C:\\\\Users\\\\hojun\\\\Downloads\\\\workspace01\\\\project01\\\\b64\\\\decoder.py\")))\\nprint(type(open(r\"C:\\\\Users\\\\hojun\\\\Downloads\\\\workspace01\\\\project01\\\\b64\\\\decoder.py\")))',\n",
       " 'gzip': <module 'gzip' from 'c:\\\\Users\\\\hojun\\\\AppData\\\\Local\\\\Programs\\\\Python\\\\Python310\\\\lib\\\\gzip.py'>,\n",
       " '_i2': '# gzip의 open을 gzip_open으로서 임포트 >> open 함수가 여러개라 이름을 gzip의 open함수를 명시적으로 해주기\\nfrom gzip import open as gzip_open\\ngzip_open  # gzip의open',\n",
       " 'gzip_open': <function gzip.open(filename, mode='rb', compresslevel=9, encoding=None, errors=None, newline=None)>,\n",
       " '_2': <function gzip.open(filename, mode='rb', compresslevel=9, encoding=None, errors=None, newline=None)>,\n",
       " '_i3': 'import sys\\n\\nsys.path',\n",
       " 'sys': <module 'sys' (built-in)>,\n",
       " '_3': ['c:\\\\Users\\\\hojun\\\\Downloads\\\\workspace01\\\\project01',\n",
       "  'c:\\\\Users\\\\hojun\\\\AppData\\\\Local\\\\Programs\\\\Python\\\\Python310\\\\python310.zip',\n",
       "  'c:\\\\Users\\\\hojun\\\\AppData\\\\Local\\\\Programs\\\\Python\\\\Python310\\\\DLLs',\n",
       "  'c:\\\\Users\\\\hojun\\\\AppData\\\\Local\\\\Programs\\\\Python\\\\Python310\\\\lib',\n",
       "  'c:\\\\Users\\\\hojun\\\\AppData\\\\Local\\\\Programs\\\\Python\\\\Python310',\n",
       "  '',\n",
       "  'c:\\\\Users\\\\hojun\\\\AppData\\\\Local\\\\Programs\\\\Python\\\\Python310\\\\lib\\\\site-packages',\n",
       "  'c:\\\\Users\\\\hojun\\\\AppData\\\\Local\\\\Programs\\\\Python\\\\Python310\\\\lib\\\\site-packages\\\\win32',\n",
       "  'c:\\\\Users\\\\hojun\\\\AppData\\\\Local\\\\Programs\\\\Python\\\\Python310\\\\lib\\\\site-packages\\\\win32\\\\lib',\n",
       "  'c:\\\\Users\\\\hojun\\\\AppData\\\\Local\\\\Programs\\\\Python\\\\Python310\\\\lib\\\\site-packages\\\\Pythonwin'],\n",
       " '_i4': 'import sys\\n\\nsys.path\\nsys.path[1]',\n",
       " '_4': 'c:\\\\Users\\\\hojun\\\\AppData\\\\Local\\\\Programs\\\\Python\\\\Python310\\\\python310.zip',\n",
       " '_i5': '!cat syspath.py',\n",
       " '_exit_code': 1,\n",
       " '_i6': '# 함수 안에서는 value에 접근할 수 있음\\n#f()\\n\\nfor i in range(0,3):\\n    for i in range(0,3):\\n        print(i)',\n",
       " 'i': 2,\n",
       " '_i7': '# 함수 안에서는 value에 접근할 수 있음\\nf()',\n",
       " '_i8': \"def f():\\n    value = 'f_function'\\n    print(value)\",\n",
       " 'f': <function __main__.f()>,\n",
       " '_i9': \"def g():\\n    value = 'g_function'\\n    print(value)\",\n",
       " 'g': <function __main__.g()>,\n",
       " '_i10': '# 함수 안에서는 value에 접근할 수 있음\\nf()',\n",
       " '_i11': '# 변수 value는 리스트 컴프리헨션으로 만들어진 스코프를 가지는 로컬 변수\\n[value for value in range(1)] # 이름값이 같아야\\n\\n[x for x in range(0,10)]',\n",
       " '_11': [0, 1, 2, 3, 4, 5, 6, 7, 8, 9],\n",
       " '_i12': '# 변수 value는 리스트 컴프리헨션으로 만들어진 스코프를 가지는 로컬 변수\\n[value for value in range(1)] # 이름값이 같아야\\n\\n[x for x in range(0,10) if x % 2 == 0] # for문이 먼저 실행되고 for문의 결과가 바깥으로 append 된다. 조건문은 옵션',\n",
       " '_12': [0, 2, 4, 6, 8],\n",
       " '_i13': 'locals()',\n",
       " '_13': {...},\n",
       " '_i14': '# locals()\\nglobals()',\n",
       " '_14': {...},\n",
       " '_i15': '# locals()\\n# global 전역변수화 시켜주는 연산자\\nglobals()'}"
      ]
     },
     "execution_count": 15,
     "metadata": {},
     "output_type": "execute_result"
    }
   ],
   "source": [
    "# 메모리에 올라온 변수들 보여줌 : locals(), globals()\n",
    "\n",
    "# locals()\n",
    "# global 전역변수화 시켜주는 연산자\n",
    "globals()"
   ]
  },
  {
   "cell_type": "raw",
   "metadata": {},
   "source": [
    "# 모듈 최상위 레벨에서는\n",
    "# 글로벌 스코프와 일치\n",
    ">>> locals()\n",
    "{'__name__': '__main__', '__doc__': None, ... 'g': <function g at 0x105dc37b8>}"
   ]
  },
  {
   "cell_type": "markdown",
   "metadata": {},
   "source": [
    "### 전역 스코프 ── 모듈 최상위 레벨의 스코프"
   ]
  },
  {
   "cell_type": "code",
   "execution_count": 46,
   "metadata": {},
   "outputs": [
    {
     "name": "stdout",
     "output_type": "stream",
     "text": [
      "python\n"
     ]
    }
   ],
   "source": [
    "x = 'python'\n",
    "print(x)"
   ]
  },
  {
   "cell_type": "code",
   "execution_count": 47,
   "metadata": {},
   "outputs": [],
   "source": [
    "# 전역 변수를 참조\n",
    "def f():\n",
    "    print(x)"
   ]
  },
  {
   "cell_type": "code",
   "execution_count": 48,
   "metadata": {},
   "outputs": [
    {
     "name": "stdout",
     "output_type": "stream",
     "text": [
      "python\n"
     ]
    }
   ],
   "source": [
    "f()"
   ]
  },
  {
   "cell_type": "code",
   "execution_count": 49,
   "metadata": {},
   "outputs": [],
   "source": [
    "# 전역 변수의 업데이트가 아닌 로컬 변수 작성\n",
    "def g():\n",
    "    x = 'g_function'\n",
    "    print(x)"
   ]
  },
  {
   "cell_type": "code",
   "execution_count": 50,
   "metadata": {},
   "outputs": [
    {
     "name": "stdout",
     "output_type": "stream",
     "text": [
      "g_function\n"
     ]
    }
   ],
   "source": [
    "g()"
   ]
  },
  {
   "cell_type": "code",
   "execution_count": 51,
   "metadata": {},
   "outputs": [
    {
     "name": "stdout",
     "output_type": "stream",
     "text": [
      "python\n"
     ]
    }
   ],
   "source": [
    "print(x)  # 전역 변숫값은 그대로임"
   ]
  },
  {
   "cell_type": "code",
   "execution_count": 52,
   "metadata": {},
   "outputs": [],
   "source": [
    "x = 'python'"
   ]
  },
  {
   "cell_type": "code",
   "execution_count": 53,
   "metadata": {},
   "outputs": [],
   "source": [
    "def f():\n",
    "    # 전역 변수 참조\n",
    "    print(x)\n",
    "    # 전역 변수를 먼저 참조하면\n",
    "    # 같은 이름의 로컬 변수는 덮어 씌워짐\n",
    "    x = 'f_function'\n",
    "    print(x)"
   ]
  },
  {
   "cell_type": "code",
   "execution_count": 54,
   "metadata": {
    "tags": [
     "raises-exception"
    ]
   },
   "outputs": [
    {
     "ename": "UnboundLocalError",
     "evalue": "local variable 'x' referenced before assignment",
     "output_type": "error",
     "traceback": [
      "\u001b[0;31m---------------------------------------------------------------------------\u001b[0m",
      "\u001b[0;31mUnboundLocalError\u001b[0m                         Traceback (most recent call last)",
      "\u001b[0;32m<ipython-input-54-c43e34e6d405>\u001b[0m in \u001b[0;36m<module>\u001b[0;34m\u001b[0m\n\u001b[0;32m----> 1\u001b[0;31m \u001b[0mf\u001b[0m\u001b[0;34m(\u001b[0m\u001b[0;34m)\u001b[0m\u001b[0;34m\u001b[0m\u001b[0;34m\u001b[0m\u001b[0m\n\u001b[0m",
      "\u001b[0;32m<ipython-input-53-5c1d1dc099b8>\u001b[0m in \u001b[0;36mf\u001b[0;34m()\u001b[0m\n\u001b[1;32m      1\u001b[0m \u001b[0;32mdef\u001b[0m \u001b[0mf\u001b[0m\u001b[0;34m(\u001b[0m\u001b[0;34m)\u001b[0m\u001b[0;34m:\u001b[0m\u001b[0;34m\u001b[0m\u001b[0;34m\u001b[0m\u001b[0m\n\u001b[1;32m      2\u001b[0m     \u001b[0;31m# 전역 변수 참조\u001b[0m\u001b[0;34m\u001b[0m\u001b[0;34m\u001b[0m\u001b[0;34m\u001b[0m\u001b[0m\n\u001b[0;32m----> 3\u001b[0;31m     \u001b[0mprint\u001b[0m\u001b[0;34m(\u001b[0m\u001b[0mx\u001b[0m\u001b[0;34m)\u001b[0m\u001b[0;34m\u001b[0m\u001b[0;34m\u001b[0m\u001b[0m\n\u001b[0m\u001b[1;32m      4\u001b[0m     \u001b[0;31m# 전역 변수를 먼저 참조하면\u001b[0m\u001b[0;34m\u001b[0m\u001b[0;34m\u001b[0m\u001b[0;34m\u001b[0m\u001b[0m\n\u001b[1;32m      5\u001b[0m     \u001b[0;31m# 같은 이름의 로컬 변수는 정의할 수 없음\u001b[0m\u001b[0;34m\u001b[0m\u001b[0;34m\u001b[0m\u001b[0;34m\u001b[0m\u001b[0m\n",
      "\u001b[0;31mUnboundLocalError\u001b[0m: local variable 'x' referenced before assignment"
     ]
    }
   ],
   "source": [
    "f()"
   ]
  },
  {
   "cell_type": "code",
   "execution_count": 55,
   "metadata": {},
   "outputs": [],
   "source": [
    "x = 'python'"
   ]
  },
  {
   "cell_type": "code",
   "execution_count": 17,
   "metadata": {},
   "outputs": [],
   "source": [
    "# 지역변수를 전역변수화 시키기\n",
    "# 전역변수 많이쓰면 안됨\n",
    "# 선언과 동시에 정의 안됨, 선언 먼저해주고 할당해주기\n",
    "\n",
    "def f():\n",
    "    global x  # 전역 변수임을 선언\n",
    "    x = 'book'\n",
    "    print(x)"
   ]
  },
  {
   "cell_type": "code",
   "execution_count": 18,
   "metadata": {},
   "outputs": [
    {
     "name": "stdout",
     "output_type": "stream",
     "text": [
      "book\n"
     ]
    }
   ],
   "source": [
    "f()"
   ]
  },
  {
   "cell_type": "code",
   "execution_count": 58,
   "metadata": {},
   "outputs": [
    {
     "name": "stdout",
     "output_type": "stream",
     "text": [
      "book\n"
     ]
    }
   ],
   "source": [
    "print(x)  # 전역 변수값이 업데이트 됨"
   ]
  },
  {
   "cell_type": "code",
   "execution_count": 19,
   "metadata": {},
   "outputs": [],
   "source": [
    "x = [0, 1]"
   ]
  },
  {
   "cell_type": "code",
   "execution_count": 20,
   "metadata": {},
   "outputs": [],
   "source": [
    "def f():\n",
    "    x[0] = 2"
   ]
  },
  {
   "cell_type": "code",
   "execution_count": 21,
   "metadata": {},
   "outputs": [
    {
     "data": {
      "text/plain": [
       "[0, 1]"
      ]
     },
     "execution_count": 21,
     "metadata": {},
     "output_type": "execute_result"
    }
   ],
   "source": [
    "x"
   ]
  },
  {
   "cell_type": "code",
   "execution_count": 62,
   "metadata": {},
   "outputs": [],
   "source": [
    "f()"
   ]
  },
  {
   "cell_type": "code",
   "execution_count": 63,
   "metadata": {},
   "outputs": [
    {
     "data": {
      "text/plain": [
       "[2, 1]"
      ]
     },
     "execution_count": 63,
     "metadata": {},
     "output_type": "execute_result"
    }
   ],
   "source": [
    "x"
   ]
  },
  {
   "cell_type": "raw",
   "metadata": {},
   "source": [
    ">>> globals()  # 현재 전역 스코프 내용 표시\n",
    "{'__name__': '__main__', '__doc__': None, ... 'f': <function f at 0x104e7d378>}"
   ]
  },
  {
   "cell_type": "code",
   "execution_count": 64,
   "metadata": {},
   "outputs": [],
   "source": [
    "def f():\n",
    "    print(globals())"
   ]
  },
  {
   "cell_type": "raw",
   "metadata": {},
   "source": [
    ">>> f()  # 함수 안에서도 같은 결과를 얻을 수 있음\n",
    "{'__name__': '__main__', '__doc__': None, ... 'f': <function f at 0x104e7d378>}"
   ]
  },
  {
   "cell_type": "markdown",
   "metadata": {},
   "source": [
    "### 빌트인 스코프 ── 내장 객체의 스코프"
   ]
  },
  {
   "cell_type": "code",
   "execution_count": 65,
   "metadata": {},
   "outputs": [
    {
     "data": {
      "text/plain": [
       "['ArithmeticError',\n",
       " 'AssertionError',\n",
       " 'AttributeError',\n",
       " 'BaseException',\n",
       " 'BlockingIOError',\n",
       " 'BrokenPipeError',\n",
       " 'BufferError',\n",
       " 'BytesWarning',\n",
       " 'ChildProcessError',\n",
       " 'ConnectionAbortedError',\n",
       " 'ConnectionError',\n",
       " 'ConnectionRefusedError',\n",
       " 'ConnectionResetError',\n",
       " 'DeprecationWarning',\n",
       " 'EOFError',\n",
       " 'Ellipsis',\n",
       " 'EnvironmentError',\n",
       " 'Exception',\n",
       " 'False',\n",
       " 'FileExistsError',\n",
       " 'FileNotFoundError',\n",
       " 'FloatingPointError',\n",
       " 'FutureWarning',\n",
       " 'GeneratorExit',\n",
       " 'IOError',\n",
       " 'ImportError',\n",
       " 'ImportWarning',\n",
       " 'IndentationError',\n",
       " 'IndexError',\n",
       " 'InterruptedError',\n",
       " 'IsADirectoryError',\n",
       " 'KeyError',\n",
       " 'KeyboardInterrupt',\n",
       " 'LookupError',\n",
       " 'MemoryError',\n",
       " 'ModuleNotFoundError',\n",
       " 'NameError',\n",
       " 'None',\n",
       " 'NotADirectoryError',\n",
       " 'NotImplemented',\n",
       " 'NotImplementedError',\n",
       " 'OSError',\n",
       " 'OverflowError',\n",
       " 'PendingDeprecationWarning',\n",
       " 'PermissionError',\n",
       " 'ProcessLookupError',\n",
       " 'RecursionError',\n",
       " 'ReferenceError',\n",
       " 'ResourceWarning',\n",
       " 'RuntimeError',\n",
       " 'RuntimeWarning',\n",
       " 'StopAsyncIteration',\n",
       " 'StopIteration',\n",
       " 'SyntaxError',\n",
       " 'SyntaxWarning',\n",
       " 'SystemError',\n",
       " 'SystemExit',\n",
       " 'TabError',\n",
       " 'TimeoutError',\n",
       " 'True',\n",
       " 'TypeError',\n",
       " 'UnboundLocalError',\n",
       " 'UnicodeDecodeError',\n",
       " 'UnicodeEncodeError',\n",
       " 'UnicodeError',\n",
       " 'UnicodeTranslateError',\n",
       " 'UnicodeWarning',\n",
       " 'UserWarning',\n",
       " 'ValueError',\n",
       " 'Warning',\n",
       " 'ZeroDivisionError',\n",
       " '__IPYTHON__',\n",
       " '__build_class__',\n",
       " '__debug__',\n",
       " '__doc__',\n",
       " '__import__',\n",
       " '__loader__',\n",
       " '__name__',\n",
       " '__package__',\n",
       " '__spec__',\n",
       " 'abs',\n",
       " 'all',\n",
       " 'any',\n",
       " 'ascii',\n",
       " 'bin',\n",
       " 'bool',\n",
       " 'breakpoint',\n",
       " 'bytearray',\n",
       " 'bytes',\n",
       " 'callable',\n",
       " 'chr',\n",
       " 'classmethod',\n",
       " 'compile',\n",
       " 'complex',\n",
       " 'copyright',\n",
       " 'credits',\n",
       " 'delattr',\n",
       " 'dict',\n",
       " 'dir',\n",
       " 'display',\n",
       " 'divmod',\n",
       " 'enumerate',\n",
       " 'eval',\n",
       " 'exec',\n",
       " 'filter',\n",
       " 'float',\n",
       " 'format',\n",
       " 'frozenset',\n",
       " 'get_ipython',\n",
       " 'getattr',\n",
       " 'globals',\n",
       " 'hasattr',\n",
       " 'hash',\n",
       " 'help',\n",
       " 'hex',\n",
       " 'id',\n",
       " 'input',\n",
       " 'int',\n",
       " 'isinstance',\n",
       " 'issubclass',\n",
       " 'iter',\n",
       " 'len',\n",
       " 'license',\n",
       " 'list',\n",
       " 'locals',\n",
       " 'map',\n",
       " 'max',\n",
       " 'memoryview',\n",
       " 'min',\n",
       " 'next',\n",
       " 'object',\n",
       " 'oct',\n",
       " 'open',\n",
       " 'ord',\n",
       " 'pow',\n",
       " 'print',\n",
       " 'property',\n",
       " 'range',\n",
       " 'repr',\n",
       " 'reversed',\n",
       " 'round',\n",
       " 'set',\n",
       " 'setattr',\n",
       " 'slice',\n",
       " 'sorted',\n",
       " 'staticmethod',\n",
       " 'str',\n",
       " 'sum',\n",
       " 'super',\n",
       " 'tuple',\n",
       " 'type',\n",
       " 'vars',\n",
       " 'zip']"
      ]
     },
     "execution_count": 65,
     "metadata": {},
     "output_type": "execute_result"
    }
   ],
   "source": [
    "dir(__builtins__)"
   ]
  },
  {
   "cell_type": "markdown",
   "metadata": {},
   "source": [
    "### 인클로징 스코프 ── 현재 로컬 스코프의 1계층 바깥의 스코프"
   ]
  },
  {
   "cell_type": "code",
   "execution_count": 66,
   "metadata": {},
   "outputs": [],
   "source": [
    "# x = 'y' # 여기엔 접근못함 g에서 2계층 위므로\n",
    "def f():\n",
    "    x = 'x' # g함수의 인크로징 스코프 범위 (g보다 1계층 위)\n",
    "    def g():\n",
    "        print(x)  # 인클로징 스코프 안의 변수 x를 참조\n",
    "    g()"
   ]
  },
  {
   "cell_type": "code",
   "execution_count": 67,
   "metadata": {},
   "outputs": [
    {
     "name": "stdout",
     "output_type": "stream",
     "text": [
      "x\n"
     ]
    }
   ],
   "source": [
    "f()"
   ]
  },
  {
   "cell_type": "code",
   "execution_count": 68,
   "metadata": {},
   "outputs": [],
   "source": [
    "def f():\n",
    "    x = 'x' \n",
    "    def g():\n",
    "        nonlocal x  # x라 로컬 변수가 아님을 선언\n",
    "        x = 1 # nonlocal이라 x값이 g함수 뿐만아니라 f함수에서도 바뀜\n",
    "        print(x)\n",
    "    g()\n",
    "    print(x) # x가 아닌 1이 출력 nonlocal로 선언했기 때문"
   ]
  },
  {
   "cell_type": "code",
   "execution_count": 69,
   "metadata": {},
   "outputs": [
    {
     "name": "stdout",
     "output_type": "stream",
     "text": [
      "1\n",
      "1\n"
     ]
    }
   ],
   "source": [
    "f()"
   ]
  },
  {
   "cell_type": "code",
   "execution_count": 70,
   "metadata": {},
   "outputs": [],
   "source": [
    "def f():\n",
    "    x = 'x'\n",
    "    def g():\n",
    "        x = 1  # 로컬 변수로서 정의됨\n",
    "        print(x)\n",
    "    g()\n",
    "    print(x)  # 원래 x의 값은 변하지 않음"
   ]
  },
  {
   "cell_type": "code",
   "execution_count": 71,
   "metadata": {},
   "outputs": [
    {
     "name": "stdout",
     "output_type": "stream",
     "text": [
      "1\n",
      "x\n"
     ]
    }
   ],
   "source": [
    "f()"
   ]
  },
  {
   "cell_type": "markdown",
   "metadata": {},
   "source": [
    "#### 클로저 ── 작성 시의 환경을 기억하는 함수 객체"
   ]
  },
  {
   "cell_type": "code",
   "execution_count": 22,
   "metadata": {},
   "outputs": [],
   "source": [
    "def counter():\n",
    "    count = 0\n",
    "    def _increment():\n",
    "        nonlocal count\n",
    "        count += 1\n",
    "        return count\n",
    "    return _increment"
   ]
  },
  {
   "cell_type": "code",
   "execution_count": 23,
   "metadata": {},
   "outputs": [
    {
     "data": {
      "text/plain": [
       "<function __main__.counter.<locals>._increment()>"
      ]
     },
     "execution_count": 23,
     "metadata": {},
     "output_type": "execute_result"
    }
   ],
   "source": [
    "# 카운터 작성\n",
    "counter1 = counter()\n",
    "counter1"
   ]
  },
  {
   "cell_type": "code",
   "execution_count": 24,
   "metadata": {},
   "outputs": [
    {
     "data": {
      "text/plain": [
       "1"
      ]
     },
     "execution_count": 24,
     "metadata": {},
     "output_type": "execute_result"
    }
   ],
   "source": [
    "# _increment의 바깥쪽에서 정의되어 있던\n",
    "# counter의 참조를 계속 유지하고 있음\n",
    "counter1()"
   ]
  },
  {
   "cell_type": "code",
   "execution_count": 25,
   "metadata": {},
   "outputs": [
    {
     "data": {
      "text/plain": [
       "2"
      ]
     },
     "execution_count": 25,
     "metadata": {},
     "output_type": "execute_result"
    }
   ],
   "source": [
    "# counter1 실행할 때 마다, 값이 늘어남 (이전에 실행시켰던 값들을 기억 : nonlocal을 통한 클로저)\n",
    "counter1()"
   ]
  },
  {
   "cell_type": "code",
   "execution_count": 26,
   "metadata": {},
   "outputs": [
    {
     "data": {
      "text/plain": [
       "1"
      ]
     },
     "execution_count": 26,
     "metadata": {},
     "output_type": "execute_result"
    }
   ],
   "source": [
    "# 다른 카운터 작성\n",
    "# counter1이 참조하고 있는 count에는 옇양이 없음\n",
    "counter2 = counter()\n",
    "counter2()"
   ]
  },
  {
   "cell_type": "code",
   "execution_count": 77,
   "metadata": {},
   "outputs": [
    {
     "data": {
      "text/plain": [
       "3"
      ]
     },
     "execution_count": 77,
     "metadata": {},
     "output_type": "execute_result"
    }
   ],
   "source": [
    "counter1()"
   ]
  },
  {
   "cell_type": "markdown",
   "metadata": {},
   "source": [
    "# 정리"
   ]
  },
  {
   "cell_type": "code",
   "execution_count": 40,
   "metadata": {},
   "outputs": [
    {
     "data": {
      "text/plain": [
       "[4, 2]"
      ]
     },
     "execution_count": 40,
     "metadata": {},
     "output_type": "execute_result"
    }
   ],
   "source": [
    "# 내장된 모듈\n",
    "# from math import pow\n",
    "\n",
    "import random\n",
    "\n",
    "# 실행 때 마다 무작위 값\n",
    "# random.random() \n",
    "\n",
    "random.uniform(10,20)\n",
    "random.randrange(20)\n",
    "random.choice((1,2,3,4))\n",
    "random.choice([1,2,3,4])\n",
    "\n",
    "a = [1,2,3,4]\n",
    "random.shuffle(a)\n",
    "a\n",
    "\n",
    "# 랜덤샘플링 할 때\n",
    "b = [1,2,3,4]\n",
    "random.sample(b, k=2) # b에 있는 것 중 2개 뽑기, 근데 이전에 뽑았던거 다시 집어넣고 다시 뽑는 식임 bootstrap\n",
    "\n",
    "# 이전에 뽑은거를 제외할거면 ?"
   ]
  },
  {
   "cell_type": "code",
   "execution_count": 49,
   "metadata": {},
   "outputs": [
    {
     "data": {
      "text/plain": [
       "'nt'"
      ]
     },
     "execution_count": 49,
     "metadata": {},
     "output_type": "execute_result"
    }
   ],
   "source": [
    "import sys\n",
    "\n",
    "# [] = sys.argv # 0번째는 실행파일명, 1번째는 args\n",
    "# print(sys.getwindowsversion())\n",
    "# print(sys.copyright)\n",
    "\n",
    "import os # 주로 경로나 파일관련해서 사용\n",
    "\n",
    "# os.listdir() # 현재 경로에 있는 파일들 출력 (ls 역할) : .으로 시작한건 숨김처리된 파일\n",
    "os.name"
   ]
  },
  {
   "cell_type": "code",
   "execution_count": 52,
   "metadata": {},
   "outputs": [
    {
     "data": {
      "text/plain": [
       "'05월 13일 2024년 17시 27분 03초'"
      ]
     },
     "execution_count": 52,
     "metadata": {},
     "output_type": "execute_result"
    }
   ],
   "source": [
    "import datetime\n",
    "\n",
    "now = datetime.datetime.now() # 현재시간\n",
    "\n",
    "미국식 = now.strftime(\"%m{} %d{} %Y{} %H{} %M{} %S{}\").format(*\"월일년시분초\")\n",
    "미국식\n",
    "\n",
    "# 시간 변화 반영 : timedelta\n",
    "after = now + datetime.timedelta(weeks=1)"
   ]
  },
  {
   "cell_type": "code",
   "execution_count": 54,
   "metadata": {},
   "outputs": [
    {
     "name": "stdout",
     "output_type": "stream",
     "text": [
      "hi\n"
     ]
    }
   ],
   "source": [
    "import time\n",
    "\n",
    "time.sleep(1) # 입력 시간 동안 정지"
   ]
  },
  {
   "cell_type": "code",
   "execution_count": 57,
   "metadata": {},
   "outputs": [
    {
     "name": "stdout",
     "output_type": "stream",
     "text": [
      "b'<!doctype html><html itemscope=\"\" itemtype=\"http://schema.org/WebPage\" lang=\"ko\"><head><meta content=\"text/html; charset=UTF-8\" http-equiv=\"Content-Type\"><meta content=\"/images/branding/googleg/1x/googleg_standard_color_128dp.png\" itemprop=\"image\"><title>Google</title><script nonce=\"Pk4P-Impl--ejtghtNZ48A\">(function(){var _g={kEI:\\'ZdJBZr6TNsXb1e8Pra-HiAw\\',kEXPI:\\'0,3700333,616,361,77,535949,2709,2872,2891,89155,230,77989,29265,6624,49751,2,38003,1758,6700,41948,57734,2,2,1,24626,2006,8155,8861,14489,22436,48456,3782,20199,6049,67129,2265,765,15816,1804,14360,20908,11814,1635,13492,5254651,682,783,5991857,511,2839112,4,5,28,2,2,2,58,83,7442390,13275881,5958414,1305643,1008,15665,43886,3,318,4,1281,3,2121778,2585,1973699,21055652,12799,8408,16665,20408,6,896,6717,36870,1923,8577,2,9,2370,6407,8049,2468,3329,10053,5111,7981,200,390,4314,3,3210,2890,2437,4496,5,14051,15840,1794,10085,10991,359,236,1263,3,611,419,709,1794,1954,155,399,2085,1708,2692,4547,4557,7736,8,6591,1181,5,240,1114,672,4,63,2,2,223,541,359,2733,207,121,3217,4,126,2878,705,2646,464,451,2,1,9,1,978,535,57,1711,4,2410,371,385,5,1324,3533,1151,3,573,1026,64,1673,301,218,245,3,160,482,1145,757,1,6,194,305,795,6,308,1,3,1207,1591,179,1057,2,2,372,62,721,2597,2,6,2,358,40,318,96,77,1218,3,454,6,9,12,6,12,6,9,12,9,8,9,12,9,6,9,9,12,9,6,12,9,9,6,12,9,6,9,12,9,9,9,9,9,9,6,9,9,9,9,9,9,12,6,9,9,9,12,9,6,9,12,6,12,9,6,12,6,9,12,6,12,6,9,9,9,12,9,6,12,6,12,6,12,9,6,12,9,6,9,12,9,9,6,9,12,6,9,9,12,9,6,9,12,6,12,6,9,12,6,12,6,9,12,9,9,6,12,9,9,6,12,9,6,12,9,9,9,6,12,9,6,12,6,12,6,12,6,9,12,6,12,6,12,6,9,12,9,6,9,9,12,6,9,9,9,9,12,9,6,2595,227,1401,45,148,469,505,3,310,1068,972,640,137,14,1654,17,207,1398,1327,539,183,258,371,276,806,3,14,975,610,77,132,123,953,406,836,886,154,1340,226,544,2,240,494,28,854,615,46,5,509,1043,22,149,12,3,82,88,408,109,620,238,165,211,77,22,141,2024,644,1481,69,594,1136,781,55,509,368,97,178,301,74,2,134,280,1150,635,328,14,2,37,492,63,8,371,86,1490,21601888,4267,3,3770,4524,3792,5,1809,269,1566,541,291,451,38\\',kBL:\\'U4bN\\',kOPI:89978449};(function(){var a;(null==(a=window.google)?0:a.stvsc)?google.kEI=_g.kEI:window.google=_g;}).call(this);})();(function(){google.sn=\\'webhp\\';google.kHL=\\'ko\\';})();(function(){\\nvar h=this||self;function l(){return void 0!==window.google&&void 0!==window.google.kOPI&&0!==window.google.kOPI?window.google.kOPI:null};var m,n=[];function p(a){for(var b;a&&(!a.getAttribute||!(b=a.getAttribute(\"eid\")));)a=a.parentNode;return b||m}function q(a){for(var b=null;a&&(!a.getAttribute||!(b=a.getAttribute(\"leid\")));)a=a.parentNode;return b}function r(a){/^http:/i.test(a)&&\"https:\"===window.location.protocol&&(google.ml&&google.ml(Error(\"a\"),!1,{src:a,glmm:1}),a=\"\");return a}\\nfunction t(a,b,c,d,k){var e=\"\";-1===b.search(\"&ei=\")&&(e=\"&ei=\"+p(d),-1===b.search(\"&lei=\")&&(d=q(d))&&(e+=\"&lei=\"+d));d=\"\";var g=-1===b.search(\"&cshid=\")&&\"slh\"!==a,f=[];f.push([\"zx\",Date.now().toString()]);h._cshid&&g&&f.push([\"cshid\",h._cshid]);c=c();null!=c&&f.push([\"opi\",c.toString()]);for(c=0;c<f.length;c++){if(0===c||0<c)d+=\"&\";d+=f[c][0]+\"=\"+f[c][1]}return\"/\"+(k||\"gen_204\")+\"?atyp=i&ct=\"+String(a)+\"&cad=\"+(b+e+d)};m=google.kEI;google.getEI=p;google.getLEI=q;google.ml=function(){return null};google.log=function(a,b,c,d,k,e){e=void 0===e?l:e;c||(c=t(a,b,e,d,k));if(c=r(c)){a=new Image;var g=n.length;n[g]=a;a.onerror=a.onload=a.onabort=function(){delete n[g]};a.src=c}};google.logUrl=function(a,b){b=void 0===b?l:b;return t(\"\",a,b)};}).call(this);(function(){google.y={};google.sy=[];google.x=function(a,b){if(a)var c=a.id;else{do c=Math.random();while(google.y[c])}google.y[c]=[a,b];return!1};google.sx=function(a){google.sy.push(a)};google.lm=[];google.plm=function(a){google.lm.push.apply(google.lm,a)};google.lq=[];google.load=function(a,b,c){google.lq.push([[a],b,c])};google.loadAll=function(a,b){google.lq.push([a,b])};google.bx=!1;google.lx=function(){};var d=[];google.fce=function(a,b,c,e){d.push([a,b,c,e])};google.qce=d;}).call(this);google.f={};(function(){\\ndocument.documentElement.addEventListener(\"submit\",function(b){var a;if(a=b.target){var c=a.getAttribute(\"data-submitfalse\");a=\"1\"===c||\"q\"===c&&!a.elements.q.value?!0:!1}else a=!1;a&&(b.preventDefault(),b.stopPropagation())},!0);document.documentElement.addEventListener(\"click\",function(b){var a;a:{for(a=b.target;a&&a!==document.documentElement;a=a.parentElement)if(\"A\"===a.tagName){a=\"1\"===a.getAttribute(\"data-nohref\");break a}a=!1}a&&b.preventDefault()},!0);}).call(this);</script><style>#gbar,#guser{font-size:13px;padding-top:1px !important;}#gbar{height:22px}#guser{padding-bottom:7px !important;text-align:right}.gbh,.gbd{border-top:1px solid #c9d7f1;font-size:1px}.gbh{height:0;position:absolute;top:24px;width:100%}@media all{.gb1{height:22px;margin-right:.5em;vertical-align:top}#gbar{float:left}}a.gb1,a.gb4{text-decoration:underline !important}a.gb1,a.gb4{color:#00c !important}.gbi .gb4{color:#dd8e27 !important}.gbf .gb4{color:#900 !important}\\n</style><style>body,td,a,p,.h{font-family:&#44404;&#47548;,&#46027;&#50880;,arial,sans-serif}.ko{font-size:9pt}body{margin:0;overflow-y:scroll}#gog{padding:3px 8px 0}td{line-height:.8em}.gac_m td{line-height:17px}form{margin-bottom:20px}.h{color:#1967d2}em{font-weight:bold;font-style:normal}.lst{height:25px;width:496px}.gsfi,.lst{font:18px arial,sans-serif}.gsfs{font:17px arial,sans-serif}.ds{display:inline-box;display:inline-block;margin:3px 0 4px;margin-left:4px}input{font-family:inherit}body{background:#fff;color:#000}a{color:#681da8;text-decoration:none}a:hover,a:active{text-decoration:underline}.fl a{color:#1967d2}a:visited{color:#681da8}.sblc{padding-top:5px}.sblc a{display:block;margin:2px 0;margin-left:13px;font-size:11px}.lsbb{background:#f8f9fa;border:solid 1px;border-color:#dadce0 #70757a #70757a #dadce0;height:30px}.lsbb{display:block}#WqQANb a{display:inline-block;margin:0 12px}.lsb{background:url(/images/nav_logo229.png) 0 -261px repeat-x;color:#000;border:none;cursor:pointer;height:30px;margin:0;outline:0;font:15px arial,sans-serif;vertical-align:top}.lsb:active{background:#dadce0}.lst:focus{outline:none}.Ucigb{width:458px}</style><script nonce=\"Pk4P-Impl--ejtghtNZ48A\">(function(){window.google.erd={jsr:1,bv:2006,de:true};\\nvar h=this||self;var k,l=null!=(k=h.mei)?k:1,n,p=null!=(n=h.sdo)?n:!0,q=0,r,t=google.erd,v=t.jsr;google.ml=function(a,b,d,m,e){e=void 0===e?2:e;b&&(r=a&&a.message);void 0===d&&(d={});d.cad=\"ple_\"+google.ple+\".aple_\"+google.aple;if(google.dl)return google.dl(a,e,d,!0),null;b=d;if(0>v){window.console&&console.error(a,b);if(-2===v)throw a;b=!1}else b=!a||!a.message||\"Error loading script\"===a.message||q>=l&&!m?!1:!0;if(!b)return null;q++;d=d||{};b=encodeURIComponent;var c=\"/gen_204?atyp=i&ei=\"+b(google.kEI);google.kEXPI&&(c+=\"&jexpid=\"+b(google.kEXPI));c+=\"&srcpg=\"+b(google.sn)+\"&jsr=\"+b(t.jsr)+\\n\"&bver=\"+b(t.bv);var f=a.lineNumber;void 0!==f&&(c+=\"&line=\"+f);var g=a.fileName;g&&(0<g.indexOf(\"-extension:/\")&&(e=3),c+=\"&script=\"+b(g),f&&g===window.location.href&&(f=document.documentElement.outerHTML.split(\"\\\\n\")[f],c+=\"&cad=\"+b(f?f.substring(0,300):\"No script found.\")));google.ple&&1===google.ple&&(e=2);c+=\"&jsel=\"+e;for(var u in d)c+=\"&\",c+=b(u),c+=\"=\",c+=b(d[u]);c=c+\"&emsg=\"+b(a.name+\": \"+a.message);c=c+\"&jsst=\"+b(a.stack||\"N/A\");12288<=c.length&&(c=c.substr(0,12288));a=c;m||google.log(0,\"\",a);return a};window.onerror=function(a,b,d,m,e){r!==a&&(a=e instanceof Error?e:Error(a),void 0===d||\"lineNumber\"in a||(a.lineNumber=d),void 0===b||\"fileName\"in a||(a.fileName=b),google.ml(a,!1,void 0,!1,\"SyntaxError\"===a.name||\"SyntaxError\"===a.message.substring(0,11)||-1!==a.message.indexOf(\"Script error\")?3:0));r=null;p&&q>=l&&(window.onerror=null)};})();</script></head><body bgcolor=\"#fff\"><script nonce=\"Pk4P-Impl--ejtghtNZ48A\">(function(){var src=\\'/images/nav_logo229.png\\';var iesg=false;document.body.onload = function(){window.n && window.n();if (document.images){new Image().src=src;}\\nif (!iesg){document.f&&document.f.q.focus();document.gbqf&&document.gbqf.q.focus();}\\n}\\n})();</script><div id=\"mngb\"><div id=gbar><nobr><b class=gb1>&#44160;&#49353;</b> <a class=gb1 href=\"https://www.google.com/imghp?hl=ko&tab=wi\">&#51060;&#48120;&#51648;</a> <a class=gb1 href=\"https://maps.google.co.kr/maps?hl=ko&tab=wl\">&#51648;&#46020;</a> <a class=gb1 href=\"https://play.google.com/?hl=ko&tab=w8\">Play</a> <a class=gb1 href=\"https://www.youtube.com/?tab=w1\">YouTube</a> <a class=gb1 href=\"https://news.google.com/?tab=wn\">&#45684;&#49828;</a> <a class=gb1 href=\"https://mail.google.com/mail/?tab=wm\">Gmail</a> <a class=gb1 href=\"https://drive.google.com/?tab=wo\">&#46300;&#46972;&#51060;&#48652;</a> <a class=gb1 style=\"text-decoration:none\" href=\"https://www.google.co.kr/intl/ko/about/products?tab=wh\"><u>&#45908;&#48372;&#44592;</u> &raquo;</a></nobr></div><div id=guser width=100%><nobr><span id=gbn class=gbi></span><span id=gbf class=gbf></span><span id=gbe></span><a href=\"http://www.google.co.kr/history/optout?hl=ko\" class=gb4>&#50937; &#44592;&#47197;</a> | <a  href=\"/preferences?hl=ko\" class=gb4>&#49444;&#51221;</a> | <a target=_top id=gb_70 href=\"https://accounts.google.com/ServiceLogin?hl=ko&passive=true&continue=https://www.google.com/&ec=GAZAAQ\" class=gb4>&#47196;&#44536;&#51064;</a></nobr></div><div class=gbh style=left:0></div><div class=gbh style=right:0></div></div><center><br clear=\"all\" id=\"lgpd\"><div id=\"lga\"><img alt=\"Google\" height=\"92\" src=\"/images/branding/googlelogo/1x/googlelogo_white_background_color_272x92dp.png\" style=\"padding:28px 0 14px\" width=\"272\" id=\"hplogo\"><br><br></div><form action=\"/search\" name=\"f\"><table cellpadding=\"0\" cellspacing=\"0\"><tr valign=\"top\"><td width=\"25%\">&nbsp;</td><td align=\"center\" nowrap=\"\"><input name=\"ie\" value=\"ISO-8859-1\" type=\"hidden\"><input value=\"ko\" name=\"hl\" type=\"hidden\"><input name=\"source\" type=\"hidden\" value=\"hp\"><input name=\"biw\" type=\"hidden\"><input name=\"bih\" type=\"hidden\"><div class=\"ds\" style=\"height:32px;margin:4px 0\"><div style=\"position:relative;zoom:1\"><input class=\"lst Ucigb\" style=\"margin:0;padding:5px 8px 0 6px;vertical-align:top;color:#000;padding-right:38px\" autocomplete=\"off\" value=\"\" title=\"Google &#44160;&#49353;\" maxlength=\"2048\" name=\"q\" size=\"57\"><img src=\"/textinputassistant/tia.png\" style=\"position:absolute;cursor:pointer;right:5px;top:4px;z-index:300\" data-script-url=\"/textinputassistant/13/ko_tia.js\" id=\"tsuid_1\" alt=\"\" height=\"23\" width=\"27\"><script nonce=\"Pk4P-Impl--ejtghtNZ48A\">(function(){var id=\\'tsuid_1\\';document.getElementById(id).onclick = function(){var s = document.createElement(\\'script\\');s.src = this.getAttribute(\\'data-script-url\\');document.body.appendChild(s);};})();</script></div></div><br style=\"line-height:0\"><span class=\"ds\"><span class=\"lsbb\"><input class=\"lsb\" value=\"Google &#44160;&#49353;\" name=\"btnG\" type=\"submit\"></span></span><span class=\"ds\"><span class=\"lsbb\"><input class=\"lsb\" id=\"tsuid_2\" value=\"I&#8217;m Feeling Lucky\" name=\"btnI\" type=\"submit\"><script nonce=\"Pk4P-Impl--ejtghtNZ48A\">(function(){var id=\\'tsuid_2\\';document.getElementById(id).onclick = function(){if (this.form.q.value){this.checked = 1;if (this.form.iflsig)this.form.iflsig.disabled = false;}\\nelse top.location=\\'/doodles/\\';};})();</script><input value=\"AL9hbdgAAAAAZkHgdagyokKIDgQ0htp8mNkwnM8GWevk\" name=\"iflsig\" type=\"hidden\"></span></span></td><td class=\"fl sblc\" align=\"left\" nowrap=\"\" width=\"25%\"><a href=\"/advanced_search?hl=ko&amp;authuser=0\">&#44256;&#44553;&#44160;&#49353;</a></td></tr></table><input id=\"gbv\" name=\"gbv\" type=\"hidden\" value=\"1\"><script nonce=\"Pk4P-Impl--ejtghtNZ48A\">(function(){var a,b=\"1\";if(document&&document.getElementById)if(\"undefined\"!=typeof XMLHttpRequest)b=\"2\";else if(\"undefined\"!=typeof ActiveXObject){var c,d,e=[\"MSXML2.XMLHTTP.6.0\",\"MSXML2.XMLHTTP.3.0\",\"MSXML2.XMLHTTP\",\"Microsoft.XMLHTTP\"];for(c=0;d=e[c++];)try{new ActiveXObject(d),b=\"2\"}catch(h){}}a=b;if(\"2\"==a&&-1==location.search.indexOf(\"&gbv=2\")){var f=google.gbvu,g=document.getElementById(\"gbv\");g&&(g.value=a);f&&window.setTimeout(function(){location.href=f},0)};}).call(this);</script></form><div id=\"gac_scont\"></div><div style=\"font-size:83%;min-height:3.5em\"><br></div><span id=\"footer\"><div style=\"font-size:10pt\"><div style=\"margin:19px auto;text-align:center\" id=\"WqQANb\"><a href=\"/intl/ko/ads/\">&#44305;&#44256;</a><a href=\"http://www.google.co.kr/intl/ko/services/\">&#48708;&#51592;&#45768;&#49828; &#49556;&#47336;&#49496;</a><a href=\"/intl/ko/about.html\">Google &#51221;&#48372;</a><a href=\"https://www.google.com/setprefdomain?prefdom=KR&amp;prev=https://www.google.co.kr/&amp;sig=K_W4qjVa75-6KIRgBOt_6NLAqyUHg%3D\">Google.co.kr</a></div></div><p style=\"font-size:8pt;color:#70757a\">&copy; 2024 - <a href=\"/intl/ko/policies/privacy/\">&#44060;&#51064;&#51221;&#48372;&#52376;&#47532;&#48169;&#52840;</a> - <a href=\"/intl/ko/policies/terms/\">&#50557;&#44288;</a></p></span></center><script nonce=\"Pk4P-Impl--ejtghtNZ48A\">(function(){window.google.cdo={height:757,width:1440};(function(){var a=window.innerWidth,b=window.innerHeight;if(!a||!b){var c=window.document,d=\"CSS1Compat\"==c.compatMode?c.documentElement:c.body;a=d.clientWidth;b=d.clientHeight}\\nif(a&&b&&(a!=google.cdo.width||b!=google.cdo.height)){var e=google,f=e.log,g=\"/client_204?&atyp=i&biw=\"+a+\"&bih=\"+b+\"&ei=\"+google.kEI,h=\"\",k=[],l=void 0!==window.google&&void 0!==window.google.kOPI&&0!==window.google.kOPI?window.google.kOPI:null;null!=l&&k.push([\"opi\",l.toString()]);for(var m=0;m<k.length;m++){if(0===m||0<m)h+=\"&\";h+=k[m][0]+\"=\"+k[m][1]}f.call(e,\"\",\"\",g+h)};}).call(this);})();</script>  <script nonce=\"Pk4P-Impl--ejtghtNZ48A\">(function(){google.xjs={basecomb:\\'/xjs/_/js/k\\\\x3dxjs.hp.en.MDSHspJLUA0.O/ck\\\\x3dxjs.hp.EMMKfs-lZRE.L.X.O/am\\\\x3dAQAAgAAAAAAAAAAAAAAAAAAAAACAAAAAAAAAAEDgAAAABAAEAgAAAPADQAAAAAAiAABICAAOoiMAGIAjAADwAg/d\\\\x3d1/ed\\\\x3d1/dg\\\\x3d0/ujg\\\\x3d1/rs\\\\x3dACT90oF3I9PhfpiBCKr-stPnFlumLMsBEg\\',basecss:\\'/xjs/_/ss/k\\\\x3dxjs.hp.EMMKfs-lZRE.L.X.O/am\\\\x3dAQAAgAAAAAAAAAAAAAAAAAAAAAAAAAAAAAAAAAAAAAAABAAEAgAAAAAAQAAAAAAiAABICA/rs\\\\x3dACT90oEyvkxr65fzQuOj1-1uUwJo6n4yhg\\',basejs:\\'/xjs/_/js/k\\\\x3dxjs.hp.en.MDSHspJLUA0.O/am\\\\x3dAAAAAAAAAAAAAAAAAAAAAAAAAACAAAAAAAAAAEDgAAAAAAAAAAAAAPADAAAAAAAAAAAAAAAOoiMAGIAjAADwAg/dg\\\\x3d0/rs\\\\x3dACT90oENHhuoJoIBb23vCf-QsgxiWbVLVg\\',excm:[]};})();</script> <link href=\"/xjs/_/ss/k=xjs.hp.EMMKfs-lZRE.L.X.O/am=AQAAgAAAAAAAAAAAAAAAAAAAAAAAAAAAAAAAAAAAAAAABAAEAgAAAAAAQAAAAAAiAABICA/d=1/ed=1/rs=ACT90oEyvkxr65fzQuOj1-1uUwJo6n4yhg/m=sb_he,d\" rel=\"stylesheet\" nonce=\"Pk4P-Impl--ejtghtNZ48A\">    <script nonce=\"Pk4P-Impl--ejtghtNZ48A\">(function(){var u=\\'/xjs/_/js/k\\\\x3dxjs.hp.en.MDSHspJLUA0.O/am\\\\x3dAAAAAAAAAAAAAAAAAAAAAAAAAACAAAAAAAAAAEDgAAAAAAAAAAAAAPADAAAAAAAAAAAAAAAOoiMAGIAjAADwAg/d\\\\x3d1/ed\\\\x3d1/rs\\\\x3dACT90oENHhuoJoIBb23vCf-QsgxiWbVLVg/m\\\\x3dsb_he,d\\';var st=0;var amd=0;var v=false;\\nvar e=this||self,f=function(a){return a};var g;var h=function(a){this.g=a};h.prototype.toString=function(){return this.g+\"\"};var k={};\\nfunction l(a,b){a.src=b instanceof h&&b.constructor===h?b.g:\"type_error:TrustedResourceUrl\";var c,d;(c=(b=null==(d=(c=(a.ownerDocument&&a.ownerDocument.defaultView||window).document).querySelector)?void 0:d.call(c,\"script[nonce]\"))?b.nonce||b.getAttribute(\"nonce\")||\"\":\"\")&&a.setAttribute(\"nonce\",c)};var m=function(){var a=document;var b=\"SCRIPT\";\"application/xhtml+xml\"===a.contentType&&(b=b.toLowerCase());return a.createElement(b)};function n(a){a=null===a?\"null\":void 0===a?\"undefined\":a;if(void 0===g){var b=null;var c=e.trustedTypes;if(c&&c.createPolicy){try{b=c.createPolicy(\"goog#html\",{createHTML:f,createScript:f,createScriptURL:f})}catch(d){e.console&&e.console.error(d.message)}g=b}else g=b}a=(b=g)?b.createScriptURL(a):a;return new h(a,k)};void 0===google.ps&&(google.ps=[]);function p(){var a=u,b=function(){};google.lx=google.stvsc?b:function(){q(a);google.lx=b};google.bx||google.lx()}function r(a,b){b&&l(a,n(b));var c=a.onload;a.onload=function(d){c&&c(d);google.ps=google.ps.filter(function(B){return a!==B})};google.ps.push(a);document.body.appendChild(a)}google.as=r;function q(a){google.timers&&google.timers.load&&google.tick&&google.tick(\"load\",\"xjsls\");var b=m();b.onerror=function(){google.ple=1};b.onload=function(){google.ple=0};google.xjsus=void 0;r(b,a);google.aple=-1;google.psa=!0};function t(a){var b=a.getAttribute(\"jscontroller\");return(\"UBXHI\"===b||\"R3fhkb\"===b||\"TSZEqd\"===b)&&a.hasAttribute(\"data-src\")}for(var w=document.getElementsByTagName(\"img\"),x=0,y=w.length;x<y;++x){var z=w[x];Number(z.getAttribute(\"data-atf\"))&1&&t(z)&&(z.src=z.getAttribute(\"data-src\"))};google.xjsu=u;e._F_jsUrl=u;var A=!1;function C(){A||(p(),A=!0)}\\nsetTimeout(function(){google&&google.tick&&google.timers&&google.timers.load&&google.tick(\"load\",\"xjspls\");var a;if(!(a=1!==st||!google.caft||v&&\"visible\"!==document.visibilityState))a:{a=document.getElementsByTagName(\"img\");for(var b=0,c=a.length;b<c;b++){var d=a[b];if(d.hasAttribute(\"data-lzy_\")&&Number(d.getAttribute(\"data-atf\"))&1&&!t(d)){a=!0;break a}}a=!1}a?2!==st||!google.rairicb||v&&\"visible\"!==document.visibilityState?p():(window.setTimeout(C,amd),google.rairicb(C)):(window.setTimeout(C,amd),google.caft(C))},0);})();window._ = window._ || {};window._DumpException = _._DumpException = function(e){throw e;};window._s = window._s || {};_s._DumpException = _._DumpException;window._qs = window._qs || {};_qs._DumpException = _._DumpException;(function(){var t=[9,2,0,0,0,163840,0,949026976,67109120,528384,1056969216,4096,2228224,2301952,37363936,149030400,49283072];window._F_toggles = window._xjs_toggles = t;})();function _F_installCss(c){}\\n(function(){google.jl={bfl:0,dw:false,ine:false,ubm:false,uwp:true,vs:false};})();(function(){var pmc=\\'{\\\\x22d\\\\x22:{},\\\\x22sb_he\\\\x22:{\\\\x22agen\\\\x22:false,\\\\x22cgen\\\\x22:false,\\\\x22client\\\\x22:\\\\x22heirloom-hp\\\\x22,\\\\x22dh\\\\x22:true,\\\\x22ds\\\\x22:\\\\x22\\\\x22,\\\\x22fl\\\\x22:true,\\\\x22host\\\\x22:\\\\x22google.com\\\\x22,\\\\x22jsonp\\\\x22:true,\\\\x22msgs\\\\x22:{\\\\x22cibl\\\\x22:\\\\x22\\\\\\\\uac80\\\\\\\\uc0c9\\\\\\\\uc5b4 \\\\\\\\uc9c0\\\\\\\\uc6b0\\\\\\\\uae30\\\\x22,\\\\x22dym\\\\x22:\\\\x22\\\\\\\\uc774\\\\\\\\uac83\\\\\\\\uc744 \\\\\\\\ucc3e\\\\\\\\uc73c\\\\\\\\uc168\\\\\\\\ub098\\\\\\\\uc694?\\\\x22,\\\\x22lcky\\\\x22:\\\\x22I\\\\\\\\u2019m Feeling Lucky\\\\x22,\\\\x22lml\\\\x22:\\\\x22\\\\\\\\uc790\\\\\\\\uc138\\\\\\\\ud788 \\\\\\\\uc54c\\\\\\\\uc544\\\\\\\\ubcf4\\\\\\\\uae30\\\\x22,\\\\x22psrc\\\\x22:\\\\x22\\\\\\\\uac80\\\\\\\\uc0c9\\\\\\\\uc5b4\\\\\\\\uac00 \\\\\\\\u003Ca href\\\\x3d\\\\\\\\\\\\x22/history\\\\\\\\\\\\x22\\\\\\\\u003E\\\\\\\\uc6f9 \\\\\\\\uae30\\\\\\\\ub85d\\\\\\\\u003C/a\\\\\\\\u003E\\\\\\\\uc5d0\\\\\\\\uc11c \\\\\\\\uc0ad\\\\\\\\uc81c\\\\\\\\ub418\\\\\\\\uc5c8\\\\\\\\uc2b5\\\\\\\\ub2c8\\\\\\\\ub2e4.\\\\x22,\\\\x22psrl\\\\x22:\\\\x22\\\\\\\\uc0ad\\\\\\\\uc81c\\\\x22,\\\\x22sbit\\\\x22:\\\\x22\\\\\\\\uc774\\\\\\\\ubbf8\\\\\\\\uc9c0\\\\\\\\ub85c \\\\\\\\uac80\\\\\\\\uc0c9\\\\x22,\\\\x22srch\\\\x22:\\\\x22Google \\\\\\\\uac80\\\\\\\\uc0c9\\\\x22},\\\\x22ovr\\\\x22:{},\\\\x22pq\\\\x22:\\\\x22\\\\x22,\\\\x22rfs\\\\x22:[],\\\\x22sbas\\\\x22:\\\\x220 3px 8px 0 rgba(0,0,0,0.2),0 0 0 1px rgba(0,0,0,0.08)\\\\x22,\\\\x22stok\\\\x22:\\\\x22Qe2cmvBQIm4F-IFNMXMKE6E2wQo\\\\x22}}\\';google.pmc=JSON.parse(pmc);})();(function(){var c=function(a){var b=0;return function(){return b<a.length?{done:!1,value:a[b++]}:{done:!0}}};\\nvar e=this||self;var g,h;a:{for(var k=[\"CLOSURE_FLAGS\"],l=e,n=0;n<k.length;n++)if(l=l[k[n]],null==l){h=null;break a}h=l}var p=h&&h[610401301];g=null!=p?p:!1;var q,r=e.navigator;q=r?r.userAgentData||null:null;function t(a){return g?q?q.brands.some(function(b){return(b=b.brand)&&-1!=b.indexOf(a)}):!1:!1}function u(a){var b;a:{if(b=e.navigator)if(b=b.userAgent)break a;b=\"\"}return-1!=b.indexOf(a)};function v(){return g?!!q&&0<q.brands.length:!1}function w(){return u(\"Safari\")&&!(x()||(v()?0:u(\"Coast\"))||(v()?0:u(\"Opera\"))||(v()?0:u(\"Edge\"))||(v()?t(\"Microsoft Edge\"):u(\"Edg/\"))||(v()?t(\"Opera\"):u(\"OPR\"))||u(\"Firefox\")||u(\"FxiOS\")||u(\"Silk\")||u(\"Android\"))}function x(){return v()?t(\"Chromium\"):(u(\"Chrome\")||u(\"CriOS\"))&&!(v()?0:u(\"Edge\"))||u(\"Silk\")}function y(){return u(\"Android\")&&!(x()||u(\"Firefox\")||u(\"FxiOS\")||(v()?0:u(\"Opera\"))||u(\"Silk\"))};var z=v()?!1:u(\"Trident\")||u(\"MSIE\");y();x();w();var A;A=\"function\"===typeof Symbol&&\"symbol\"===typeof Symbol()?Symbol():void 0;var B=[];(A?function(a,b){a[A]=b}:function(a,b){void 0!==a.g?a.g=b:Object.defineProperties(a,{g:{value:b,configurable:!0,writable:!0,enumerable:!1}})})(B,55);Object.freeze(B);Object.freeze(new function(){});Object.freeze(new function(){});var C=!z&&!w(),F=function(a){if(/-[a-z]/.test(\"ved\"))return null;if(C&&a.dataset){if(y()&&!(\"ved\"in a.dataset))return null;a=a.dataset.ved;return void 0===a?null:a}return a.getAttribute(\"data-\"+\"ved\".replace(/([A-Z])/g,\"-$1\").toLowerCase())};var G=[],H=null;function I(a){a=a.target;var b=performance.now(),f=[],J=f.concat,d=G;if(!(d instanceof Array)){var m=\"undefined\"!=typeof Symbol&&Symbol.iterator&&d[Symbol.iterator];if(m)d=m.call(d);else if(\"number\"==typeof d.length)d={next:c(d)};else throw Error(\"b`\"+String(d));for(var D=[];!(m=d.next()).done;)D.push(m.value);d=D}G=J.call(f,d,[b]);if(a&&a instanceof HTMLElement)if(a===H){if(b=4<=G.length)b=5>(G[G.length-1]-G[G.length-4])/1E3;if(b){b=google.getEI(a);a.hasAttribute(\"data-ved\")?f=a?F(a)||\"\":\"\":f=(f=\\na.closest(\"[data-ved]\"))?F(f)||\"\":\"\";f=f||\"\";if(a.hasAttribute(\"jsname\"))a=a.getAttribute(\"jsname\");else{var E;a=null==(E=a.closest(\"[jsname]\"))?void 0:E.getAttribute(\"jsname\")}google.log(\"rcm\",\"&ei=\"+b+\"&ved=\"+f+\"&jsname=\"+(a||\"\"))}}else H=a,G=[b]}window.document.addEventListener(\"DOMContentLoaded\",function(){document.body.addEventListener(\"click\",I)});}).call(this);</script></body></html>'\n"
     ]
    }
   ],
   "source": [
    "from urllib import request # 크롤링할때 활용\n",
    "# 더 나아가서는 requests() 를 활용\n",
    "\n",
    "# 해당 링크의 데이터들을 크롤링\n",
    "target = request.urlopen(\"https://google.com\")\n",
    "# print(target)\n",
    "\n",
    "print(target.read()) # byte 객체 반환\n",
    "# 해당 byte객체 프리티어를 통해 포매팅\n",
    "# byte객체론 뜯기힘드므로, 프리티어를 통해 뜯기좋게 포매팅시키는 것"
   ]
  },
  {
   "cell_type": "code",
   "execution_count": null,
   "metadata": {},
   "outputs": [],
   "source": []
  }
 ],
 "metadata": {
  "kernelspec": {
   "display_name": "Python 3",
   "language": "python",
   "name": "python3"
  },
  "language_info": {
   "codemirror_mode": {
    "name": "ipython",
    "version": 3
   },
   "file_extension": ".py",
   "mimetype": "text/x-python",
   "name": "python",
   "nbconvert_exporter": "python",
   "pygments_lexer": "ipython3",
   "version": "3.10.5"
  }
 },
 "nbformat": 4,
 "nbformat_minor": 4
}
