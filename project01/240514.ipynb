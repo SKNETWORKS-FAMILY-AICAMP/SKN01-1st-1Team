{
 "cells": [
  {
   "cell_type": "markdown",
   "metadata": {},
   "source": [
    "## Operator module itemgetter\n",
    "#### 많이 활용되는 함수 itemgetter()"
   ]
  },
  {
   "cell_type": "code",
   "execution_count": null,
   "metadata": {},
   "outputs": [],
   "source": [
    "# 417 page\n",
    "from operator import itemgetter\n",
    "# itemgetter는 class 형식\n",
    "# 입력 key 값에 대한 검색을 빠르게 해줌 (lambda 활용 안해도 됨) \n",
    "\n",
    "books = [{\n",
    "    \"제목\": \"혼자 공부하는 파이썬\",\n",
    "    \"가격\": 18000\n",
    "}, {\n",
    "    \"제목\": \"혼공\",\n",
    "    \"가격\": 15000\n",
    "},{\n",
    "    \"제목\": \"my sql\",\n",
    "    \"가격\": 16500\n",
    "}]\n",
    "\n",
    "print(\"# 가장 저렴한  책\")\n",
    "print(min(books, key = itemgetter(\"가격\"))) # itemgetter class는 \"가격\"이란 객체에 의해 초기화된다.\n",
    "print()\n",
    "\n",
    "print(\"# 가장 비싼 책\")\n",
    "print(max(books, key = itemgetter(\"가격\")))"
   ]
  },
  {
   "cell_type": "markdown",
   "metadata": {},
   "source": [
    "## OS 모듈 파일과 디렉토리 다루는 방법\n",
    "\n",
    "### 셀에 esc 하고 m하면 마크다운으로 바뀌고, y로하면 파이썬됨"
   ]
  },
  {
   "cell_type": "code",
   "execution_count": null,
   "metadata": {},
   "outputs": [],
   "source": [
    "# 420 page\n",
    "import os\n",
    "\n",
    "# 현재 폴더(\".\") 하위에있는 파일/폴더 출력\n",
    "# listdir(\"하위정보를 알고싶은 폴더명\")\n",
    "\n",
    "# 애매하면 그냥 절대 경로 넣어도 됨 (copy path)\n",
    "# r\"경로\" 넣거나,  \\를 모두 \\\\로 바꿔서 경로 설정하기\n",
    "# r\"C:\\Users\\hojun\\Downloads\\workspace01\\project01\\b64\\\"\n",
    "# C:\\\\Users\\\\hojun\\\\Downloads\\\\workspace01\\\\project01\\\\b64\\\\\n",
    "# 이것도 아니면 처음에 os.listdir(\"a\"), a를 root 경로로 미리 지정해두기\n",
    "\n",
    "output = os.listdir(\".\")\n",
    "# output : 현재 폴더 하위에있는 모든 것들 (파일/폴더)\n",
    "print(\"os.listdir():\", output)\n",
    "print()\n",
    "\n",
    "# 현재 폴더의 파일/폴더를 구분\n",
    "print(\"# 폴더와 파일 구분하기\")\n",
    "# 예제는 for path in output이라 되어있는데, path라 하면 os.path.isdir과 혼동되니 다른 변수 사용\n",
    "for obj in output: \n",
    "    if os.path.isdir(obj):\n",
    "        print(\"폴더:\", obj)\n",
    "    else: # os.path.isfile도 될듯?\n",
    "        print(\"파일:\", obj)"
   ]
  },
  {
   "cell_type": "code",
   "execution_count": null,
   "metadata": {},
   "outputs": [],
   "source": [
    "import os\n",
    "\n",
    "# 현재 경로 조회. 작업 디렉토리 기준\n",
    "print(os.getcwd()) \n",
    "\n",
    "# 현재 파일의 디렉토리 경로. \"작업 파일 기준\"\n",
    "print(os.path.dirname(\".\"))\n",
    "\n",
    "breakpoint() # 코드상에서 직접 중단점 잡을때, 이렇게 하면 우선 현재 경로(\".\")만 검색후 중단\n",
    "\n",
    "# os.path.realpath() : 풀(절대) 경로를 return 시킴\n",
    "print(os.path.dirname(os.path.realpath(__file__))) # __file__ 의 풀 경로 반환하고 그 경로의 dirname 출력"
   ]
  },
  {
   "cell_type": "code",
   "execution_count": null,
   "metadata": {},
   "outputs": [],
   "source": [
    "# 파일명만 모은 리스트 출력하기\n",
    "import os\n",
    "output = os.listdir(\".\")\n",
    "파일명만모은리스트 = []\n",
    "for obj in output:\n",
    "    if os.path.isdir(obj):\n",
    "        continue\n",
    "    else:\n",
    "        파일명만모은리스트.append(obj.split(\".\")[0]) # 경로뺀 파일 이름만\n",
    "파일명만모은리스트"
   ]
  },
  {
   "cell_type": "code",
   "execution_count": null,
   "metadata": {},
   "outputs": [],
   "source": [
    "1. 현재 경로 확인\n",
    "import os\n",
    "\n",
    "# 현재 경로 조회. 작업 디렉토리 기준\n",
    "print(os.getcwd()) \n",
    "\n",
    "# 현재 파일의 디렉토리 경로. \"작업 파일 기준\"\n",
    "print(os.path.dirname(\".\"))\n",
    "\n",
    "breakpoint() # 코드상에서 직접 중단점 잡을때, 이렇게 하면 우선 현재 경로(\".\")만 검색후 중단\n",
    "\n",
    "print(os.path.dirname(os.path.realpath(__file__)))\n",
    "\n",
    "2. 디렉토리 변경 : os.chdir()\n",
    "import os\n",
    "\n",
    "os.chdir(\"../\") # 부모 디렉토리로 이동\n",
    "\n",
    "3. 현재 폴더의 디렉토리 및 파일 리스트 확인 : os.listdir()\n",
    "import os\n",
    "\n",
    "files = os.listdir() # os.listdif(os.getcwd())와 동일\n",
    "\n",
    "4. 파일명 제외하고 경로만 가져오기 : os.path.dirname\n",
    "import os\n",
    "\n",
    "dirname = os.path.dirname(\"filepath\")\n",
    "\n",
    "5. 경로 제외하고 파일명만 가져오기 : os.path.basename\n",
    "import os\n",
    "\n",
    "filename = os.path.basename(\"filepath\")\n",
    "\n",
    "6. 파일/디렉토리 여부 확인 : os.path.isdir, os.path.isfile\n",
    "import os\n",
    "\n",
    "# 해당 경로가 파일인지 확인\n",
    "# 파일이면 True, 아니면 False 반환\n",
    "is_file = os.path.isfile(\"inputpath\")\n",
    "\n",
    "# 해당 경로가 디렉토리인지 확인\n",
    "# 디렉토리이면 True, 아니면 False 반환\n",
    "is_dir = os.path.isdir(\"inputpath\")\n",
    "\n",
    "7. 디렉토리와 파일명 분리 : os.path.split 하면 알아서 구분해줌 (마지막게 알아서 파일로가고, 이전건 다 경로)\n",
    "꼭 os.path 붙여야함 안 하면 일반 string split기능\n",
    "\n",
    "import os\n",
    "\n",
    "dirpath, filename = os.path.split(\"C:/Users/Python/Python39/python.exe\")\n",
    "print(dirpath) # C:/Users/Python/Python39\n",
    "print(filename) # python.exe\n",
    "\n",
    "8. 파일/디렉토리 존재 유무 확인 : os.path.exists(\"경로\")\n",
    "import os\n",
    "\n",
    "exist = os.path.exists(\"inputpath\") # 파일 또는 디렉토리 존재 유무 체크\n",
    "# 실무에선 이런 기능들을 알게된다면 클래스화 시켜서 필요할때 사용해줌\n",
    "\n",
    "\n",
    "9. 파일 크기 체크 : os.path.getsize()\n",
    "import os\n",
    "\n",
    "size = os.path.getsize(\"filepath\")\n",
    "\n",
    "10. 파일명과 경로명을 합쳐 최종경로로 반환하는 방법 : os.path.join() 중요!\n",
    "import os\n",
    "\n",
    "os.path.join(\"C:/Users/Python/Python39\", \"python.exe\")\n",
    "\\ : 윈도우 일때\n",
    "/ : linux 일때 경로 구분문자\n",
    "# 윈도우로 작업해도 마지막은 os.path.join으로 해서 linux에 적용되게끔 /로 바꾸기\n",
    "# 출력 >>  C:/Users/Python/Python39/python.exe\n",
    "\n",
    "11. 파일명과 확장자를 분리하는 방법 : os.path.splitext (split extension)\n",
    "import os\n",
    "\n",
    "name, ext = os.path.splitext(\"python.exe\")\n",
    "print(name) # python\n",
    "print(ext) # .exe\n",
    "\n",
    "12. 파일명을 변경하는 방법 : os.renames(\"풀 경로\")\n",
    "\n",
    "import os\n",
    "\n",
    "file_list = os.listdir(\"C:/Users/Python/Python39\")\n",
    "# 현재 파일이 [\"test1.txt\", \"test2.txt\", \"test3.txt\"]가 있다고 가정\n",
    "\n",
    "os.renames(\"C:/Users/Python/Python39/test1.txt\", \"C:/Users/Python/Python39/good.txt\")\n",
    "\n",
    "print(os.listdir(\"C:/Users/Python/Python39\"))\n",
    "# [\"good.txt\", \"test2.txt\", \"test3.txt\"]\n",
    "\n",
    "13. 현재 파일의 이름과 경로 : os.path.realpath (실제 경로), os.path.abspath (절대 경로), os.path.relpath (상대 경로)\n",
    "import os\n",
    "\n",
    "# 현재 파일의 이름\n",
    "print(__file__)\n",
    "\n",
    "# 출력해보니 실제경로와 절대경로는 같다 왜 굳이 구분하지?\n",
    "# 현재 파일 실제 경로\n",
    "print(os.path.realpath(__file__))\n",
    "\n",
    "# 현재 파일 절대 경로\n",
    "print(os.path.abspath(__file__))"
   ]
  },
  {
   "cell_type": "markdown",
   "metadata": {},
   "source": [
    "## 외부 모듈 \n",
    "### 파이썬 설치할때 알아서 내장된 모듈 x, 따로 설치"
   ]
  },
  {
   "cell_type": "code",
   "execution_count": null,
   "metadata": {},
   "outputs": [],
   "source": [
    "# 422 page\n",
    "\n",
    "# 패키지 매니징\n",
    "pip install (pip로 하는것을 권장)\n",
    "conda install\n"
   ]
  },
  {
   "cell_type": "markdown",
   "metadata": {},
   "source": [
    "## Decorator\n"
   ]
  },
  {
   "cell_type": "code",
   "execution_count": 2,
   "metadata": {},
   "outputs": [
    {
     "name": "stdout",
     "output_type": "stream",
     "text": [
      "hello\n"
     ]
    }
   ],
   "source": [
    "# 435 page\n",
    "\n",
    "def test(func):\n",
    "    def wrapper(): # 앞 뒤로 꾸며주는 역할\n",
    "        print(\"인사가 시작되었습니다.\")\n",
    "        func()\n",
    "        print(\"인사가 종료되었습니다.\")\n",
    "        return None\n",
    "    return wrapper\n",
    "\n",
    "# 데코레이터를 붙여 함수를 만듭니다. >> @func1 선언 이후 적용할 func2 정의 \n",
    "@test\n",
    "def hello():\n",
    "    print(\"hello\")\n",
    "\n",
    "# 함수를 호출합니다.\n",
    "# @test 주석처리하면 hello만 출력, @test 함으로써 wrapper 역할 수행\n",
    "hello()"
   ]
  },
  {
   "cell_type": "code",
   "execution_count": 6,
   "metadata": {},
   "outputs": [
    {
     "name": "stdout",
     "output_type": "stream",
     "text": [
      "시작\n",
      "두번째 데코레이터\n",
      "끝\n"
     ]
    }
   ],
   "source": [
    "# 436page, functtools 좋은 기능들 많음\n",
    "# function tools의 wraps를 통해 decorate하기\n",
    "from functools import wraps\n",
    "\n",
    "# 함수로 데코레이터를 생성합니다.\n",
    "def test(function):\n",
    "    @wraps(function) # wraps라는 decorator로 function함수를 감싸겠다.\n",
    "    # * : 가변 위치인자 (몇개가 올지 모름) >> 리스트라 생각하기\n",
    "    # ** : 가변 키워드인자 >> 딕셔너리라 생각하기\n",
    "    def wrapper(*args, **kwargs):\n",
    "        print(\"시작\")\n",
    "        function()\n",
    "        print(\"끝\")\n",
    "    return wrapper\n",
    "\n",
    "@test\n",
    "def hello():\n",
    "    print(\"두번째 데코레이터\")\n",
    "\n",
    "hello() # 위의 decorator랑 무슨차이 ?\n"
   ]
  },
  {
   "cell_type": "markdown",
   "metadata": {},
   "source": [
    "## 클래스\n",
    "### 객체지향 프로그래밍, 클래스 객체 인스턴스"
   ]
  },
  {
   "cell_type": "code",
   "execution_count": null,
   "metadata": {},
   "outputs": [],
   "source": [
    "# 클래스.ipynb 파일참고\n"
   ]
  }
 ],
 "metadata": {
  "kernelspec": {
   "display_name": "Python 3",
   "language": "python",
   "name": "python3"
  },
  "language_info": {
   "codemirror_mode": {
    "name": "ipython",
    "version": 3
   },
   "file_extension": ".py",
   "mimetype": "text/x-python",
   "name": "python",
   "nbconvert_exporter": "python",
   "pygments_lexer": "ipython3",
   "version": "3.10.5"
  }
 },
 "nbformat": 4,
 "nbformat_minor": 2
}
